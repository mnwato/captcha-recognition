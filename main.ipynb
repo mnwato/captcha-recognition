{
  "cells": [
    {
      "cell_type": "markdown",
      "metadata": {
        "colab_type": "text",
        "id": "view-in-github"
      },
      "source": [
        "<a href=\"https://colab.research.google.com/github/mnwato/captcha-recognition/blob/master/sheypoor/main.ipynb\" target=\"_parent\"><img src=\"https://colab.research.google.com/assets/colab-badge.svg\" alt=\"Open In Colab\"/></a>"
      ]
    },
    {
      "cell_type": "code",
      "execution_count": 11,
      "metadata": {
        "colab": {
          "base_uri": "https://localhost:8080/"
        },
        "id": "ngRiUqrEhK3Z",
        "outputId": "fa7dbc8b-a321-44a5-f6e4-b6a47397f6ef"
      },
      "outputs": [
        {
          "name": "stdout",
          "output_type": "stream",
          "text": [
            "Mounted at /content/drive\n"
          ]
        }
      ],
      "source": [
        "from google.colab import drive\n",
        "drive.mount('/content/drive')"
      ]
    },
    {
      "cell_type": "markdown",
      "metadata": {
        "id": "8P5eE9wP6F0a"
      },
      "source": [
        "# Import Lib"
      ]
    },
    {
      "cell_type": "code",
      "execution_count": null,
      "metadata": {
        "id": "DhEvE-yp6I9p"
      },
      "outputs": [],
      "source": [
        "from matplotlib import pyplot as plt\n",
        "from tensorflow import keras\n",
        "import tensorflow as tf\n",
        "from keras import layers\n",
        "import numpy as np\n",
        "import time\n",
        "import os\n",
        "import cv2"
      ]
    },
    {
      "cell_type": "markdown",
      "metadata": {},
      "source": [
        "# Define variables"
      ]
    },
    {
      "cell_type": "code",
      "execution_count": null,
      "metadata": {},
      "outputs": [],
      "source": [
        "use_colab = True\n",
        "symbols = \"0123456789\"\n",
        "num_digits = 4"
      ]
    },
    {
      "cell_type": "markdown",
      "metadata": {},
      "source": [
        "# Download Data"
      ]
    },
    {
      "cell_type": "code",
      "execution_count": null,
      "metadata": {
        "colab": {
          "base_uri": "https://localhost:8080/"
        },
        "id": "WmXU0j3pUxlF",
        "outputId": "326af502-6b4e-44fc-b2e6-427c3e470a9f"
      },
      "outputs": [],
      "source": [
        "if use_colab == True:\n",
        "    # labels2\n",
        "    !gdown --i 102_85qewhU45Xwz262SzjsJ82OKIRpPT\n",
        "\n",
        "    # chaptcha images 2999\n",
        "    !gdown --i 1WrZmKh6k7d9XDOZoziomeZlozQUD-Myh\n",
        "\n",
        "    !unzip /content/dataset.zip\n",
        "    !rm /content/dataset.zip"
      ]
    },
    {
      "cell_type": "markdown",
      "metadata": {
        "id": "zSJO3m8igaBY"
      },
      "source": [
        "## Load and prepair data"
      ]
    },
    {
      "cell_type": "code",
      "execution_count": 142,
      "metadata": {
        "id": "djmRHqBRLNzA"
      },
      "outputs": [],
      "source": [
        "# Load labels and preprocss them\n",
        "with open('labels2.txt') as f:\n",
        "    labels = f.readlines()\n",
        "    labels = [x.rstrip('\\n') for x in labels]\n",
        "    labels = np.array(labels)\n",
        "\n",
        "\n",
        "# Make X,y from image and labels files\n",
        "def preprocess_data():\n",
        "    n_samples = len(os.listdir('/content/dataset-cat4'))\n",
        "    X = np.zeros((n_samples, 42, 152, 1)) #1070*50*200\n",
        "    y = np.zeros((4, n_samples, len(symbols))) #5*1070*36\n",
        "\n",
        "    for i, pic in enumerate(os.listdir('/content/dataset-cat4')):\n",
        "        # Read image as grayscale\n",
        "        img = cv2.imread(os.path.join('/content/dataset-cat4', pic), cv2.IMREAD_GRAYSCALE)\n",
        "        pic_id = int(pic[:-4].replace('captcha',''))-1\n",
        "        pic_target = labels[pic_id]\n",
        "        if len(pic_target) < 5:\n",
        "            # Scale and reshape image\n",
        "            img = img / 255.0\n",
        "            img = np.reshape(img, (42, 152, 1))\n",
        "            # Define targets and code them using OneHotEncoding\n",
        "            targs = np.zeros((4, len(symbols)))\n",
        "            for j, l in enumerate(pic_target):\n",
        "                ind = symbols.find(l)\n",
        "                targs[j, ind] = 1\n",
        "            X[i] = img\n",
        "            y[:, i] = targs\n",
        "    \n",
        "    # Return final data\n",
        "    return X, y\n",
        "\n",
        "X, Y = preprocess_data()"
      ]
    },
    {
      "cell_type": "code",
      "execution_count": 143,
      "metadata": {
        "colab": {
          "base_uri": "https://localhost:8080/"
        },
        "id": "TNvUA1G8-C9l",
        "outputId": "e367256b-250e-4f61-c103-989049e7c315"
      },
      "outputs": [
        {
          "data": {
            "text/plain": [
              "((2900, 42, 152, 1), (4, 2900, 10), (99, 42, 152, 1), (4, 99, 10))"
            ]
          },
          "execution_count": 143,
          "metadata": {},
          "output_type": "execute_result"
        }
      ],
      "source": [
        "# Split and prepair data for model fitting\n",
        "\n",
        "xtrain, ytrain = X[:2900], Y[:, :2900]\n",
        "xtest, ytest = X[2900:], Y[:, 2900:]\n",
        "\n",
        "xtrain.shape, ytrain.shape, xtest.shape, ytest.shape"
      ]
    },
    {
      "cell_type": "markdown",
      "metadata": {
        "id": "tR1cLPqQhBCi"
      },
      "source": [
        "## Define model"
      ]
    },
    {
      "cell_type": "code",
      "execution_count": 8,
      "metadata": {
        "id": "ragu9kAtaYqY"
      },
      "outputs": [],
      "source": [
        "def create_model():\n",
        "  img_shape=(42,152,1)\n",
        "  num_symbols=len(symbols)\n",
        "  img = layers.Input(shape=img_shape) # Get image as an input and process it through some Convs\n",
        "  conv1 = layers.Conv2D(16, (3, 3), padding='same', activation='relu')(img)\n",
        "  mp1 = layers.MaxPooling2D(padding='same')(conv1)  # 100x25\n",
        "  conv2 = layers.Conv2D(32, (3, 3), padding='same', activation='relu')(mp1)\n",
        "  mp2 = layers.MaxPooling2D(padding='same')(conv2)  # 50x13\n",
        "  conv3 = layers.Conv2D(32, (3, 3), padding='same', activation='relu')(mp2)\n",
        "  bn = layers.BatchNormalization()(conv3)\n",
        "  mp3 = layers.MaxPooling2D(padding='same')(bn)  # 25x7\n",
        "    \n",
        "  # Get flattened vector and make 5 branches from it. Each branch will predict one letter\n",
        "  # dns = layers.Dense(1024, activation='relu')(mp3)\n",
        "  flat = layers.Flatten()(mp3)\n",
        "\n",
        "  outs = []\n",
        "  for _ in range(4):\n",
        "    dens1 = layers.Dense(64, activation='relu')(flat)\n",
        "    drop = layers.Dropout(0.5)(dens1)\n",
        "    res = layers.Dense(num_symbols, activation='sigmoid')(drop)\n",
        "\n",
        "    outs.append(res)\n",
        "\n",
        "  # Create model \n",
        "  model = keras.Model(inputs=img, outputs=outs)\n",
        "\n",
        "  # Compile model\n",
        "  model.compile(loss='categorical_crossentropy', optimizer='adam',metrics=[\"accuracy\"])\n",
        "  return model"
      ]
    },
    {
      "cell_type": "markdown",
      "metadata": {
        "id": "6TGwEtlFhD6J"
      },
      "source": [
        "# Model fitting"
      ]
    },
    {
      "cell_type": "code",
      "execution_count": 9,
      "metadata": {
        "colab": {
          "base_uri": "https://localhost:8080/"
        },
        "id": "en25kZ3ocS8y",
        "outputId": "5b3d7657-4255-4674-dd71-93fc0d347fa5"
      },
      "outputs": [
        {
          "name": "stdout",
          "output_type": "stream",
          "text": [
            "Epoch 1/30\n",
            "73/73 [==============================] - 17s 33ms/step - loss: 9.3122 - dense_1_loss: 2.2911 - dense_3_loss: 2.3338 - dense_5_loss: 2.3453 - dense_7_loss: 2.3420 - dense_1_accuracy: 0.1341 - dense_3_accuracy: 0.0966 - dense_5_accuracy: 0.1091 - dense_7_accuracy: 0.1004 - val_loss: 9.1797 - val_dense_1_loss: 2.2758 - val_dense_3_loss: 2.3023 - val_dense_5_loss: 2.3018 - val_dense_7_loss: 2.2998 - val_dense_1_accuracy: 0.1103 - val_dense_3_accuracy: 0.0948 - val_dense_5_accuracy: 0.1000 - val_dense_7_accuracy: 0.1310\n",
            "Epoch 2/30\n",
            "73/73 [==============================] - 1s 20ms/step - loss: 9.0085 - dense_1_loss: 2.1656 - dense_3_loss: 2.2868 - dense_5_loss: 2.2785 - dense_7_loss: 2.2776 - dense_1_accuracy: 0.1767 - dense_3_accuracy: 0.1177 - dense_5_accuracy: 0.1427 - dense_7_accuracy: 0.1366 - val_loss: 9.1311 - val_dense_1_loss: 2.2487 - val_dense_3_loss: 2.2963 - val_dense_5_loss: 2.2961 - val_dense_7_loss: 2.2900 - val_dense_1_accuracy: 0.1293 - val_dense_3_accuracy: 0.1155 - val_dense_5_accuracy: 0.1190 - val_dense_7_accuracy: 0.1897\n",
            "Epoch 3/30\n",
            "73/73 [==============================] - 1s 20ms/step - loss: 8.0844 - dense_1_loss: 1.8161 - dense_3_loss: 2.1109 - dense_5_loss: 2.0756 - dense_7_loss: 2.0818 - dense_1_accuracy: 0.3409 - dense_3_accuracy: 0.2315 - dense_5_accuracy: 0.2422 - dense_7_accuracy: 0.2388 - val_loss: 8.7006 - val_dense_1_loss: 2.1011 - val_dense_3_loss: 2.2091 - val_dense_5_loss: 2.1984 - val_dense_7_loss: 2.1920 - val_dense_1_accuracy: 0.4155 - val_dense_3_accuracy: 0.3086 - val_dense_5_accuracy: 0.3069 - val_dense_7_accuracy: 0.3672\n",
            "Epoch 4/30\n",
            "73/73 [==============================] - 1s 20ms/step - loss: 5.9547 - dense_1_loss: 1.2696 - dense_3_loss: 1.5706 - dense_5_loss: 1.5714 - dense_7_loss: 1.5432 - dense_1_accuracy: 0.5543 - dense_3_accuracy: 0.4422 - dense_5_accuracy: 0.4375 - dense_7_accuracy: 0.4448 - val_loss: 7.7528 - val_dense_1_loss: 1.8541 - val_dense_3_loss: 1.9611 - val_dense_5_loss: 1.9975 - val_dense_7_loss: 1.9401 - val_dense_1_accuracy: 0.5448 - val_dense_3_accuracy: 0.5362 - val_dense_5_accuracy: 0.4776 - val_dense_7_accuracy: 0.5603\n",
            "Epoch 5/30\n",
            "73/73 [==============================] - 1s 20ms/step - loss: 4.1579 - dense_1_loss: 0.8312 - dense_3_loss: 1.1043 - dense_5_loss: 1.1283 - dense_7_loss: 1.0941 - dense_1_accuracy: 0.7168 - dense_3_accuracy: 0.6121 - dense_5_accuracy: 0.6009 - dense_7_accuracy: 0.6289 - val_loss: 6.1829 - val_dense_1_loss: 1.4035 - val_dense_3_loss: 1.6151 - val_dense_5_loss: 1.6105 - val_dense_7_loss: 1.5539 - val_dense_1_accuracy: 0.6966 - val_dense_3_accuracy: 0.5759 - val_dense_5_accuracy: 0.6017 - val_dense_7_accuracy: 0.6534\n",
            "Epoch 6/30\n",
            "73/73 [==============================] - 1s 20ms/step - loss: 3.0619 - dense_1_loss: 0.5783 - dense_3_loss: 0.8225 - dense_5_loss: 0.8629 - dense_7_loss: 0.7982 - dense_1_accuracy: 0.7991 - dense_3_accuracy: 0.7172 - dense_5_accuracy: 0.6970 - dense_7_accuracy: 0.7172 - val_loss: 4.4171 - val_dense_1_loss: 0.9393 - val_dense_3_loss: 1.2097 - val_dense_5_loss: 1.2066 - val_dense_7_loss: 1.0616 - val_dense_1_accuracy: 0.7931 - val_dense_3_accuracy: 0.7017 - val_dense_5_accuracy: 0.6914 - val_dense_7_accuracy: 0.7690\n",
            "Epoch 7/30\n",
            "73/73 [==============================] - 1s 20ms/step - loss: 2.2553 - dense_1_loss: 0.4012 - dense_3_loss: 0.6070 - dense_5_loss: 0.6463 - dense_7_loss: 0.6008 - dense_1_accuracy: 0.8647 - dense_3_accuracy: 0.7897 - dense_5_accuracy: 0.7832 - dense_7_accuracy: 0.7914 - val_loss: 3.4388 - val_dense_1_loss: 0.7097 - val_dense_3_loss: 0.9658 - val_dense_5_loss: 0.9493 - val_dense_7_loss: 0.8140 - val_dense_1_accuracy: 0.8190 - val_dense_3_accuracy: 0.7328 - val_dense_5_accuracy: 0.7293 - val_dense_7_accuracy: 0.7879\n",
            "Epoch 8/30\n",
            "73/73 [==============================] - 1s 20ms/step - loss: 1.7811 - dense_1_loss: 0.3229 - dense_3_loss: 0.4703 - dense_5_loss: 0.5171 - dense_7_loss: 0.4708 - dense_1_accuracy: 0.8940 - dense_3_accuracy: 0.8478 - dense_5_accuracy: 0.8194 - dense_7_accuracy: 0.8293 - val_loss: 2.7274 - val_dense_1_loss: 0.5776 - val_dense_3_loss: 0.7664 - val_dense_5_loss: 0.7786 - val_dense_7_loss: 0.6048 - val_dense_1_accuracy: 0.8207 - val_dense_3_accuracy: 0.7448 - val_dense_5_accuracy: 0.7328 - val_dense_7_accuracy: 0.8052\n",
            "Epoch 9/30\n",
            "73/73 [==============================] - 1s 20ms/step - loss: 1.4260 - dense_1_loss: 0.2604 - dense_3_loss: 0.3746 - dense_5_loss: 0.4400 - dense_7_loss: 0.3510 - dense_1_accuracy: 0.9134 - dense_3_accuracy: 0.8668 - dense_5_accuracy: 0.8453 - dense_7_accuracy: 0.8793 - val_loss: 2.7382 - val_dense_1_loss: 0.5649 - val_dense_3_loss: 0.7649 - val_dense_5_loss: 0.8159 - val_dense_7_loss: 0.5926 - val_dense_1_accuracy: 0.8138 - val_dense_3_accuracy: 0.7534 - val_dense_5_accuracy: 0.7293 - val_dense_7_accuracy: 0.8259\n",
            "Epoch 10/30\n",
            "73/73 [==============================] - 2s 22ms/step - loss: 1.1952 - dense_1_loss: 0.2182 - dense_3_loss: 0.3390 - dense_5_loss: 0.3540 - dense_7_loss: 0.2840 - dense_1_accuracy: 0.9207 - dense_3_accuracy: 0.8793 - dense_5_accuracy: 0.8789 - dense_7_accuracy: 0.9030 - val_loss: 2.4346 - val_dense_1_loss: 0.5458 - val_dense_3_loss: 0.6776 - val_dense_5_loss: 0.7492 - val_dense_7_loss: 0.4620 - val_dense_1_accuracy: 0.8379 - val_dense_3_accuracy: 0.7810 - val_dense_5_accuracy: 0.7586 - val_dense_7_accuracy: 0.8414\n",
            "Epoch 11/30\n",
            "73/73 [==============================] - 1s 20ms/step - loss: 1.0160 - dense_1_loss: 0.1782 - dense_3_loss: 0.2657 - dense_5_loss: 0.2935 - dense_7_loss: 0.2786 - dense_1_accuracy: 0.9444 - dense_3_accuracy: 0.9069 - dense_5_accuracy: 0.9013 - dense_7_accuracy: 0.9004 - val_loss: 2.4604 - val_dense_1_loss: 0.5412 - val_dense_3_loss: 0.6816 - val_dense_5_loss: 0.7434 - val_dense_7_loss: 0.4942 - val_dense_1_accuracy: 0.8500 - val_dense_3_accuracy: 0.7897 - val_dense_5_accuracy: 0.7759 - val_dense_7_accuracy: 0.8586\n",
            "Epoch 12/30\n",
            "73/73 [==============================] - 1s 20ms/step - loss: 0.8786 - dense_1_loss: 0.1550 - dense_3_loss: 0.2456 - dense_5_loss: 0.2539 - dense_7_loss: 0.2241 - dense_1_accuracy: 0.9414 - dense_3_accuracy: 0.9108 - dense_5_accuracy: 0.9147 - dense_7_accuracy: 0.9254 - val_loss: 2.3431 - val_dense_1_loss: 0.5206 - val_dense_3_loss: 0.7092 - val_dense_5_loss: 0.6906 - val_dense_7_loss: 0.4225 - val_dense_1_accuracy: 0.8586 - val_dense_3_accuracy: 0.7707 - val_dense_5_accuracy: 0.7707 - val_dense_7_accuracy: 0.8517\n",
            "Epoch 13/30\n",
            "73/73 [==============================] - 1s 20ms/step - loss: 0.7254 - dense_1_loss: 0.1135 - dense_3_loss: 0.2011 - dense_5_loss: 0.2167 - dense_7_loss: 0.1942 - dense_1_accuracy: 0.9603 - dense_3_accuracy: 0.9302 - dense_5_accuracy: 0.9267 - dense_7_accuracy: 0.9336 - val_loss: 2.4499 - val_dense_1_loss: 0.5623 - val_dense_3_loss: 0.6943 - val_dense_5_loss: 0.7610 - val_dense_7_loss: 0.4323 - val_dense_1_accuracy: 0.8534 - val_dense_3_accuracy: 0.7931 - val_dense_5_accuracy: 0.7638 - val_dense_7_accuracy: 0.8500\n",
            "Epoch 14/30\n",
            "73/73 [==============================] - 1s 20ms/step - loss: 0.6661 - dense_1_loss: 0.1112 - dense_3_loss: 0.1809 - dense_5_loss: 0.2040 - dense_7_loss: 0.1700 - dense_1_accuracy: 0.9578 - dense_3_accuracy: 0.9375 - dense_5_accuracy: 0.9315 - dense_7_accuracy: 0.9384 - val_loss: 2.6361 - val_dense_1_loss: 0.6557 - val_dense_3_loss: 0.7071 - val_dense_5_loss: 0.7918 - val_dense_7_loss: 0.4815 - val_dense_1_accuracy: 0.8362 - val_dense_3_accuracy: 0.7983 - val_dense_5_accuracy: 0.7897 - val_dense_7_accuracy: 0.8414\n",
            "Epoch 15/30\n",
            "73/73 [==============================] - 1s 20ms/step - loss: 0.6122 - dense_1_loss: 0.1216 - dense_3_loss: 0.1475 - dense_5_loss: 0.1771 - dense_7_loss: 0.1660 - dense_1_accuracy: 0.9595 - dense_3_accuracy: 0.9448 - dense_5_accuracy: 0.9371 - dense_7_accuracy: 0.9366 - val_loss: 2.5157 - val_dense_1_loss: 0.5887 - val_dense_3_loss: 0.6845 - val_dense_5_loss: 0.7690 - val_dense_7_loss: 0.4735 - val_dense_1_accuracy: 0.8397 - val_dense_3_accuracy: 0.8276 - val_dense_5_accuracy: 0.7879 - val_dense_7_accuracy: 0.8483\n",
            "Epoch 16/30\n",
            "73/73 [==============================] - 1s 20ms/step - loss: 0.6015 - dense_1_loss: 0.1052 - dense_3_loss: 0.1702 - dense_5_loss: 0.1781 - dense_7_loss: 0.1480 - dense_1_accuracy: 0.9642 - dense_3_accuracy: 0.9427 - dense_5_accuracy: 0.9375 - dense_7_accuracy: 0.9478 - val_loss: 2.5633 - val_dense_1_loss: 0.6244 - val_dense_3_loss: 0.7448 - val_dense_5_loss: 0.7723 - val_dense_7_loss: 0.4218 - val_dense_1_accuracy: 0.8466 - val_dense_3_accuracy: 0.7931 - val_dense_5_accuracy: 0.7759 - val_dense_7_accuracy: 0.8828\n",
            "Epoch 17/30\n",
            "73/73 [==============================] - 2s 23ms/step - loss: 0.5368 - dense_1_loss: 0.0735 - dense_3_loss: 0.1617 - dense_5_loss: 0.1610 - dense_7_loss: 0.1407 - dense_1_accuracy: 0.9750 - dense_3_accuracy: 0.9444 - dense_5_accuracy: 0.9448 - dense_7_accuracy: 0.9487 - val_loss: 2.6194 - val_dense_1_loss: 0.6025 - val_dense_3_loss: 0.7632 - val_dense_5_loss: 0.7516 - val_dense_7_loss: 0.5022 - val_dense_1_accuracy: 0.8552 - val_dense_3_accuracy: 0.8034 - val_dense_5_accuracy: 0.7966 - val_dense_7_accuracy: 0.8621\n",
            "Epoch 18/30\n",
            "73/73 [==============================] - 2s 22ms/step - loss: 0.4683 - dense_1_loss: 0.0897 - dense_3_loss: 0.1472 - dense_5_loss: 0.1210 - dense_7_loss: 0.1103 - dense_1_accuracy: 0.9659 - dense_3_accuracy: 0.9522 - dense_5_accuracy: 0.9586 - dense_7_accuracy: 0.9612 - val_loss: 2.6156 - val_dense_1_loss: 0.5713 - val_dense_3_loss: 0.7747 - val_dense_5_loss: 0.7588 - val_dense_7_loss: 0.5107 - val_dense_1_accuracy: 0.8672 - val_dense_3_accuracy: 0.8069 - val_dense_5_accuracy: 0.7810 - val_dense_7_accuracy: 0.8500\n",
            "Epoch 19/30\n",
            "73/73 [==============================] - 1s 20ms/step - loss: 0.4769 - dense_1_loss: 0.0860 - dense_3_loss: 0.1287 - dense_5_loss: 0.1374 - dense_7_loss: 0.1248 - dense_1_accuracy: 0.9694 - dense_3_accuracy: 0.9522 - dense_5_accuracy: 0.9547 - dense_7_accuracy: 0.9560 - val_loss: 2.6308 - val_dense_1_loss: 0.5951 - val_dense_3_loss: 0.7459 - val_dense_5_loss: 0.7779 - val_dense_7_loss: 0.5119 - val_dense_1_accuracy: 0.8586 - val_dense_3_accuracy: 0.8190 - val_dense_5_accuracy: 0.7983 - val_dense_7_accuracy: 0.8672\n",
            "Epoch 20/30\n",
            "73/73 [==============================] - 2s 21ms/step - loss: 0.4590 - dense_1_loss: 0.0782 - dense_3_loss: 0.1348 - dense_5_loss: 0.1304 - dense_7_loss: 0.1156 - dense_1_accuracy: 0.9707 - dense_3_accuracy: 0.9530 - dense_5_accuracy: 0.9461 - dense_7_accuracy: 0.9629 - val_loss: 2.5647 - val_dense_1_loss: 0.5266 - val_dense_3_loss: 0.8590 - val_dense_5_loss: 0.7043 - val_dense_7_loss: 0.4749 - val_dense_1_accuracy: 0.8621 - val_dense_3_accuracy: 0.7966 - val_dense_5_accuracy: 0.7966 - val_dense_7_accuracy: 0.8655\n",
            "Epoch 21/30\n",
            "73/73 [==============================] - 2s 22ms/step - loss: 0.3875 - dense_1_loss: 0.0588 - dense_3_loss: 0.1019 - dense_5_loss: 0.1183 - dense_7_loss: 0.1084 - dense_1_accuracy: 0.9810 - dense_3_accuracy: 0.9616 - dense_5_accuracy: 0.9573 - dense_7_accuracy: 0.9638 - val_loss: 2.6477 - val_dense_1_loss: 0.5675 - val_dense_3_loss: 0.7437 - val_dense_5_loss: 0.7580 - val_dense_7_loss: 0.5785 - val_dense_1_accuracy: 0.8672 - val_dense_3_accuracy: 0.8207 - val_dense_5_accuracy: 0.8017 - val_dense_7_accuracy: 0.8586\n",
            "Epoch 22/30\n",
            "73/73 [==============================] - 2s 21ms/step - loss: 0.3984 - dense_1_loss: 0.0711 - dense_3_loss: 0.1155 - dense_5_loss: 0.1141 - dense_7_loss: 0.0978 - dense_1_accuracy: 0.9759 - dense_3_accuracy: 0.9595 - dense_5_accuracy: 0.9582 - dense_7_accuracy: 0.9642 - val_loss: 2.6195 - val_dense_1_loss: 0.6307 - val_dense_3_loss: 0.7783 - val_dense_5_loss: 0.6980 - val_dense_7_loss: 0.5124 - val_dense_1_accuracy: 0.8569 - val_dense_3_accuracy: 0.7983 - val_dense_5_accuracy: 0.8017 - val_dense_7_accuracy: 0.8569\n",
            "Epoch 23/30\n",
            "73/73 [==============================] - 2s 23ms/step - loss: 0.3743 - dense_1_loss: 0.0656 - dense_3_loss: 0.1013 - dense_5_loss: 0.1054 - dense_7_loss: 0.1020 - dense_1_accuracy: 0.9763 - dense_3_accuracy: 0.9659 - dense_5_accuracy: 0.9651 - dense_7_accuracy: 0.9651 - val_loss: 2.5422 - val_dense_1_loss: 0.5792 - val_dense_3_loss: 0.7223 - val_dense_5_loss: 0.7414 - val_dense_7_loss: 0.4992 - val_dense_1_accuracy: 0.8621 - val_dense_3_accuracy: 0.8207 - val_dense_5_accuracy: 0.8069 - val_dense_7_accuracy: 0.8603\n",
            "Epoch 24/30\n",
            "73/73 [==============================] - 2s 22ms/step - loss: 0.3696 - dense_1_loss: 0.0680 - dense_3_loss: 0.0934 - dense_5_loss: 0.1164 - dense_7_loss: 0.0918 - dense_1_accuracy: 0.9759 - dense_3_accuracy: 0.9651 - dense_5_accuracy: 0.9616 - dense_7_accuracy: 0.9655 - val_loss: 2.7484 - val_dense_1_loss: 0.6283 - val_dense_3_loss: 0.7254 - val_dense_5_loss: 0.8080 - val_dense_7_loss: 0.5868 - val_dense_1_accuracy: 0.8638 - val_dense_3_accuracy: 0.8362 - val_dense_5_accuracy: 0.8103 - val_dense_7_accuracy: 0.8586\n",
            "Epoch 25/30\n",
            "73/73 [==============================] - 2s 21ms/step - loss: 0.3771 - dense_1_loss: 0.0575 - dense_3_loss: 0.1035 - dense_5_loss: 0.1105 - dense_7_loss: 0.1056 - dense_1_accuracy: 0.9789 - dense_3_accuracy: 0.9642 - dense_5_accuracy: 0.9621 - dense_7_accuracy: 0.9634 - val_loss: 2.7301 - val_dense_1_loss: 0.5610 - val_dense_3_loss: 0.7422 - val_dense_5_loss: 0.8933 - val_dense_7_loss: 0.5336 - val_dense_1_accuracy: 0.8603 - val_dense_3_accuracy: 0.8000 - val_dense_5_accuracy: 0.7569 - val_dense_7_accuracy: 0.8603\n",
            "Epoch 26/30\n",
            "73/73 [==============================] - 2s 22ms/step - loss: 0.3427 - dense_1_loss: 0.0737 - dense_3_loss: 0.0889 - dense_5_loss: 0.1027 - dense_7_loss: 0.0773 - dense_1_accuracy: 0.9746 - dense_3_accuracy: 0.9668 - dense_5_accuracy: 0.9634 - dense_7_accuracy: 0.9720 - val_loss: 2.9293 - val_dense_1_loss: 0.6582 - val_dense_3_loss: 0.8391 - val_dense_5_loss: 0.8100 - val_dense_7_loss: 0.6220 - val_dense_1_accuracy: 0.8517 - val_dense_3_accuracy: 0.7966 - val_dense_5_accuracy: 0.8103 - val_dense_7_accuracy: 0.8448\n",
            "Epoch 27/30\n",
            "73/73 [==============================] - 2s 22ms/step - loss: 0.3783 - dense_1_loss: 0.0732 - dense_3_loss: 0.0928 - dense_5_loss: 0.1121 - dense_7_loss: 0.1002 - dense_1_accuracy: 0.9772 - dense_3_accuracy: 0.9659 - dense_5_accuracy: 0.9616 - dense_7_accuracy: 0.9634 - val_loss: 2.5748 - val_dense_1_loss: 0.5102 - val_dense_3_loss: 0.7857 - val_dense_5_loss: 0.7732 - val_dense_7_loss: 0.5057 - val_dense_1_accuracy: 0.8724 - val_dense_3_accuracy: 0.8207 - val_dense_5_accuracy: 0.8017 - val_dense_7_accuracy: 0.8793\n",
            "Epoch 28/30\n",
            "73/73 [==============================] - 2s 22ms/step - loss: 0.3450 - dense_1_loss: 0.0749 - dense_3_loss: 0.0879 - dense_5_loss: 0.0912 - dense_7_loss: 0.0910 - dense_1_accuracy: 0.9720 - dense_3_accuracy: 0.9672 - dense_5_accuracy: 0.9685 - dense_7_accuracy: 0.9672 - val_loss: 2.6559 - val_dense_1_loss: 0.5599 - val_dense_3_loss: 0.7903 - val_dense_5_loss: 0.7900 - val_dense_7_loss: 0.5157 - val_dense_1_accuracy: 0.8759 - val_dense_3_accuracy: 0.8155 - val_dense_5_accuracy: 0.8259 - val_dense_7_accuracy: 0.8810\n",
            "Epoch 29/30\n",
            "73/73 [==============================] - 2s 21ms/step - loss: 0.3326 - dense_1_loss: 0.0718 - dense_3_loss: 0.0869 - dense_5_loss: 0.0786 - dense_7_loss: 0.0953 - dense_1_accuracy: 0.9724 - dense_3_accuracy: 0.9677 - dense_5_accuracy: 0.9728 - dense_7_accuracy: 0.9659 - val_loss: 2.6573 - val_dense_1_loss: 0.5797 - val_dense_3_loss: 0.7571 - val_dense_5_loss: 0.7880 - val_dense_7_loss: 0.5325 - val_dense_1_accuracy: 0.8879 - val_dense_3_accuracy: 0.8172 - val_dense_5_accuracy: 0.8172 - val_dense_7_accuracy: 0.8724\n",
            "Epoch 30/30\n",
            "73/73 [==============================] - 2s 21ms/step - loss: 0.3421 - dense_1_loss: 0.0543 - dense_3_loss: 0.0877 - dense_5_loss: 0.0968 - dense_7_loss: 0.1034 - dense_1_accuracy: 0.9806 - dense_3_accuracy: 0.9711 - dense_5_accuracy: 0.9664 - dense_7_accuracy: 0.9638 - val_loss: 2.5737 - val_dense_1_loss: 0.5253 - val_dense_3_loss: 0.7283 - val_dense_5_loss: 0.8226 - val_dense_7_loss: 0.4976 - val_dense_1_accuracy: 0.8759 - val_dense_3_accuracy: 0.8328 - val_dense_5_accuracy: 0.7931 - val_dense_7_accuracy: 0.8828\n"
          ]
        }
      ],
      "source": [
        "# Call create_model function\n",
        "model = create_model()\n",
        "\n",
        "# Fit created model\n",
        "hist = model.fit(xtrain, [ytrain[0], ytrain[1], ytrain[2], ytrain[3]], batch_size=32, epochs=30,verbose=1, validation_split=0.2)"
      ]
    },
    {
      "cell_type": "markdown",
      "metadata": {
        "id": "yu90HExUgkf5"
      },
      "source": [
        "## Save/Load Model"
      ]
    },
    {
      "cell_type": "code",
      "execution_count": 12,
      "metadata": {
        "id": "ggC45C7VgXMw"
      },
      "outputs": [],
      "source": [
        "from keras.models import load_model\n",
        "\n",
        "saveFlag = False\n",
        "\n",
        "if saveFlag == True:\n",
        "  model.save('Captcha_Recog.h5')\n",
        "  print(\"Saved model to disk\")\n",
        "else:\n",
        "  # load model\n",
        "  model = load_model('/content/drive/MyDrive/prj/captcha_recognition/Captcha_Recog.h5')\n",
        "\n",
        "# !cp /content/Captcha_Recog.h5 /content/drive/MyDrive/prj/captcha_recognition"
      ]
    },
    {
      "cell_type": "markdown",
      "metadata": {
        "id": "RjMjkIxiheKz"
      },
      "source": [
        "## Model prediction\n",
        "### Deep Learning model"
      ]
    },
    {
      "cell_type": "code",
      "execution_count": 14,
      "metadata": {
        "colab": {
          "base_uri": "https://localhost:8080/"
        },
        "id": "XD75LU3OvscP",
        "outputId": "2aad5f61-89fd-44a8-b5e7-62e922893451"
      },
      "outputs": [
        {
          "name": "stdout",
          "output_type": "stream",
          "text": [
            "4/4 [==============================] - 0s 88ms/step - loss: 0.6987 - dense_1_loss: 0.1079 - dense_3_loss: 0.2450 - dense_5_loss: 0.1410 - dense_7_loss: 0.2048 - dense_1_accuracy: 0.9798 - dense_3_accuracy: 0.9596 - dense_5_accuracy: 0.9293 - dense_7_accuracy: 0.9596\n",
            "Test Loss: [0.6986818909645081, 0.1078793853521347, 0.24501049518585205, 0.14103299379348755, 0.20475901663303375]\n",
            "Test accu: [0.9797979593276978, 0.9595959782600403, 0.9292929172515869, 0.9595959782600403]\n"
          ]
        }
      ],
      "source": [
        "score = model.evaluate(xtest, [ytest[0], ytest[1], ytest[2], ytest[3]])\n",
        "print('Test Loss:', score[:5])\n",
        "print('Test accu:', score[5:])"
      ]
    },
    {
      "cell_type": "code",
      "execution_count": 15,
      "metadata": {
        "id": "Tz7wcbQ2VqW_"
      },
      "outputs": [],
      "source": [
        "def predict(filePath):\n",
        "  img = cv2.imread(filePath, cv2.IMREAD_GRAYSCALE)\n",
        "  if img is not None:\n",
        "      img = img.astype('float') / 255.0\n",
        "  else:\n",
        "      print(\"Not detected\");\n",
        "  res = np.array(model.predict(img[np.newaxis, :, :, np.newaxis]))\n",
        "  ans = np.reshape(res, (num_digits, len(symbols)))\n",
        "  l_ind = []\n",
        "  probs = []\n",
        "  for a in ans:\n",
        "      l_ind.append(np.argmax(a))\n",
        "      #probs.append(np.max(a))\n",
        "\n",
        "  capt = ''\n",
        "  for l in l_ind:\n",
        "      capt += symbols[l]\n",
        "  return capt#, sum(probs) / 5"
      ]
    },
    {
      "cell_type": "code",
      "execution_count": 53,
      "metadata": {
        "colab": {
          "base_uri": "https://localhost:8080/",
          "height": 160
        },
        "id": "Anr0tD9lVkdu",
        "outputId": "1da3f738-fcbb-4adf-ed4d-726fb69aa07c"
      },
      "outputs": [
        {
          "name": "stdout",
          "output_type": "stream",
          "text": [
            "True captcha: [6 5 1 6]\n"
          ]
        },
        {
          "data": {
            "image/png": "[encoded data removed]",
            "text/plain": [
              "<Figure size 432x288 with 1 Axes>"
            ]
          },
          "metadata": {
            "needs_background": "light"
          },
          "output_type": "display_data"
        }
      ],
      "source": [
        "# Predict by xtrain, xtest\n",
        "\n",
        "i = 1\n",
        "plt.imshow(np.reshape(xtest[i], (42,152)), cmap=plt.cm.binary)\n",
        "ypred = model.predict(xtest[i:i+1])\n",
        "ypred = np.array(ypred)\n",
        "ypred = np.reshape(ypred, (4,10))\n",
        "ypred = np.argmax(ypred, axis=1)\n",
        "# ypred  = [np.argmax(x) for x in ypred]\n",
        "print(f'True captcha: {ypred}')"
      ]
    },
    {
      "cell_type": "code",
      "execution_count": 17,
      "metadata": {
        "colab": {
          "base_uri": "https://localhost:8080/",
          "height": 177
        },
        "id": "iGPrTP2mWzeQ",
        "outputId": "852c796f-23db-487d-d9a1-d61cf221d710"
      },
      "outputs": [
        {
          "name": "stdout",
          "output_type": "stream",
          "text": [
            "Predicted Captcha = 7496\n",
            "Delay is 0.06490373611450195 sec\n"
          ]
        },
        {
          "data": {
            "image/png": "[encoded data removed]",
            "text/plain": [
              "<Figure size 432x288 with 1 Axes>"
            ]
          },
          "metadata": {
            "needs_background": "light"
          },
          "output_type": "display_data"
        }
      ],
      "source": [
        "#Lets test an unknown captcha (by path)\n",
        "#preview\n",
        "%matplotlib inline \n",
        "import matplotlib.pyplot as plt\n",
        "\n",
        "i=2500\n",
        "test_img_path = f'/content/dataset/captcha{i}.jpg'\n",
        "\n",
        "t = time.time()\n",
        "\n",
        "img=cv2.imread(test_img_path, cv2.IMREAD_GRAYSCALE)\n",
        "plt.imshow(img, cmap=plt.get_cmap('gray'))\n",
        "\n",
        "#Lets Predict By Model\n",
        "print(\"Predicted Captcha =\",predict(test_img_path))\n",
        "print(f'Delay is {time.time()-t} sec')"
      ]
    },
    {
      "cell_type": "code",
      "execution_count": 173,
      "metadata": {
        "colab": {
          "base_uri": "https://localhost:8080/"
        },
        "id": "OgHI32OkbYcv",
        "outputId": "1e3ac977-3cf9-4e11-bf1d-3f0b8da21e86"
      },
      "outputs": [
        {
          "name": "stdout",
          "output_type": "stream",
          "text": [
            "              precision    recall  f1-score   support\n",
            "\n",
            "           0       0.96      1.00      0.98        24\n",
            "           1       1.00      0.92      0.96        48\n",
            "           2       0.97      1.00      0.99        36\n",
            "           3       0.95      0.86      0.90        44\n",
            "           4       0.89      1.00      0.94        40\n",
            "           5       0.89      0.94      0.92        35\n",
            "           6       0.93      1.00      0.96        40\n",
            "           7       0.96      0.96      0.96        46\n",
            "           8       0.98      0.93      0.95        43\n",
            "           9       0.97      0.93      0.95        40\n",
            "\n",
            "   micro avg       0.95      0.95      0.95       396\n",
            "   macro avg       0.95      0.95      0.95       396\n",
            "weighted avg       0.95      0.95      0.95       396\n",
            " samples avg       0.95      0.95      0.95       396\n",
            "\n"
          ]
        }
      ],
      "source": [
        "from sklearn.metrics import classification_report\n",
        "\n",
        "ypred = model.predict(xtest)\n",
        "ypred = np.array(ypred)\n",
        "\n",
        "a= ypred[0:1,:,:]\n",
        "b= ypred[1:2,:,:]\n",
        "c= ypred[2:3,:,:]\n",
        "d= ypred[3:4,:,:]\n",
        "ypred = np.concatenate((a,b,c,d), axis=1).reshape((396, 10))\n",
        "# ypred = np.argmax(ypred, axis=0)\n",
        "\n",
        "for i, elem in enumerate(ypred):\n",
        "  tmp = [0]*10\n",
        "  argmax = np.argmax(elem)\n",
        "  tmp[argmax] = 1\n",
        "  ypred[i] = tmp\n",
        "\n",
        "\n",
        "a= ytest[0:1,:,:]\n",
        "b= ytest[1:2,:,:]\n",
        "c= ytest[2:3,:,:]\n",
        "d= ytest[3:4,:,:]\n",
        "ytrue = np.concatenate((a,b,c,d), axis=1).reshape((396, 10))\n",
        "# ytrue = np.argmax(ytrue, axis=0)\n",
        "\n",
        "for i, elem in enumerate(ytrue):\n",
        "  tmp = [0]*10\n",
        "  argmax = np.argmax(elem)\n",
        "  tmp[argmax] = 1\n",
        "  ytrue[i] = tmp\n",
        "\n",
        "print(classification_report(ytrue, ypred))"
      ]
    }
  ],
  "metadata": {
    "colab": {
      "include_colab_link": true,
      "name": "main.ipynb",
      "provenance": [],
      "toc_visible": true
    },
    "interpreter": {
      "hash": "5513eef5830d037cc6a25309dd5c30cb296094b869bc5220ef884004efd165a0"
    },
    "kernelspec": {
      "display_name": "Python 3.8.0 64-bit",
      "language": "python",
      "name": "python3"
    },
    "language_info": {
      "codemirror_mode": {
        "name": "ipython",
        "version": 3
      },
      "file_extension": ".py",
      "mimetype": "text/x-python",
      "name": "python",
      "nbconvert_exporter": "python",
      "pygments_lexer": "ipython3",
      "version": "3.8.0"
    },
    "orig_nbformat": 4
  },
  "nbformat": 4,
  "nbformat_minor": 0
}

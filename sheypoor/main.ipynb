{
 "cells": [
  {
   "cell_type": "markdown",
   "metadata": {},
   "source": [
    "# Getting golestan captcha"
   ]
  },
  {
   "cell_type": "code",
   "execution_count": 1,
   "metadata": {},
   "outputs": [],
   "source": [
    "import requests\n",
    "import base64\n",
    "import numpy as np\n",
    "import time\n",
    "\n",
    "url = 'https://edu.znu.ac.ir/Forms/AuthenticateUser/captcha.aspx?0.40381493127445034&x859=386&x763=844'\n",
    "headers = {\"User-Agent\": \"Mozilla/5.0 (Windows NT 6.3; Win64; x64) AppleWebKit/537.36 (KHTML, like Gecko) Chrome/98.0.4758.82 Safari/537.36\"}\n",
    "\n",
    "\n",
    "for i in range(944,1000):\n",
    "    x = requests.get(url, headers=headers, stream=True)\n",
    "\n",
    "    a = x.content\n",
    "\n",
    "    with open(f'./dataset-golestan/captcha{i}.jpg','wb') as f:\n",
    "        f.write(a)\n",
    "    delay = np.random.randint(2)\n",
    "    time.sleep(10)"
   ]
  },
  {
   "cell_type": "markdown",
   "metadata": {},
   "source": [
    "# Getting captcha from sheypoor website"
   ]
  },
  {
   "cell_type": "code",
   "execution_count": 11,
   "metadata": {},
   "outputs": [],
   "source": [
    "import requests\n",
    "import base64\n",
    "import numpy as np\n",
    "import time\n",
    "\n",
    "url = 'https://www.sheypoor.com/api/web/captcha/refresh'\n",
    "headers = {\n",
    "    \"authority\": \"www.sheypoor.com\",\n",
    "    \"method\": \"POST\",\n",
    "    \"path\": \"/api/web/captcha/refresh\",\n",
    "    \"scheme\": \"https\",\n",
    "    \"accept\": \"*/*\",\n",
    "    \"accept-encoding\": \"gzip, deflate, br\",\n",
    "    \"accept-language\": \"en-US,en;q=0.9\",\n",
    "    \"content-length\": \"38\",\n",
    "    \"content-type\": \"application/x-www-form-urlencoded; charset=UTF-8\",\n",
    "    \"cookie\": \"plog=False; ts=b536dc923761e246fa3d552db50df071; track_id=e2e687919ce5e3f3a9a85f682145651c; AMP_TOKEN=%24NOT_FOUND; _ga=GA1.2.527994953.1644523644; _gid=GA1.2.672309292.1644523644; _gat=1\",\n",
    "    \"origin\": \"https://www.sheypoor.com\",\n",
    "    # \"referer\": \"https://www.sheypoor.com/%D9%81%D8%B1%D8%B2-%D8%A8%D8%B2%D8%B1%DA%AF-%D8%A7%D9%87%D9%86%DA%AF%D8%B1%DB%8C-%D8%B3%D9%86%DA%AF%D8%A8%D8%B1%DB%8C-%D8%AF%DB%8C%D9%85%D8%B1-%D8%AF%D8%A7%D8%B1-%D8%A8%D8%A7%D8%B3-402738844.html\",\n",
    "    \"sec-ch-ua\": '\"Not A;Brand\";v=\"99\", \"Chromium\";v=\"98\", \"Google Chrome\";v=\"98\"',\n",
    "    \"sec-ch-ua-mobile\": \"?0\",\n",
    "    \"sec-ch-ua-platform\": \"Windows\",\n",
    "    \"sec-fetch-dest\": \"empty\",\n",
    "    \"sec-fetch-mode\": \"cors\",\n",
    "    \"sec-fetch-site\": \"same-origin\",\n",
    "    \"user-agent\": \"Mozilla/5.0 (Windows NT 6.3; Win64; x64) AppleWebKit/537.36 (KHTML, like Gecko) Chrome/98.0.4758.82 Safari/537.36\",\n",
    "    \"x-requested-with\": \"XMLHttpRequest\"\n",
    "}\n",
    "data = {\"token\": \"103159f5a73c63cacc4c9d8680d45325\"}\n",
    "\n",
    "for i in range(500,1000):\n",
    "    x = requests.post(url, headers=headers, data=data, stream=True)\n",
    "\n",
    "    a = x.json()['data']['image']\n",
    "    a = a.encode('utf-8')\n",
    "\n",
    "    with open(f'./dataset/captcha{i}.jpg','wb') as f:\n",
    "        f.write(base64.decodebytes(a))\n",
    "    delay = np.random.randint(5)\n",
    "    # time.sleep(delay)"
   ]
  },
  {
   "cell_type": "markdown",
   "metadata": {},
   "source": [
    "# preprocessing images"
   ]
  },
  {
   "cell_type": "code",
   "execution_count": 6,
   "metadata": {},
   "outputs": [],
   "source": [
    "# LOADING IMAGES\n",
    "\n",
    "import cv2\n",
    "import os\n",
    "import pytesseract\n",
    "pytesseract.pytesseract.tesseract_cmd = r'C:\\Program Files\\Tesseract-OCR\\tesseract.exe'\n",
    "\n",
    "def load_images():\n",
    "    root_path = os.getcwd()\n",
    "    dataset_path = os.path.join(root_path, 'dataset')\n",
    "    # dataset_path = os.path.join(root_path, 'dataset-golestan')\n",
    "    images = [img for img in os.listdir(dataset_path)]\n",
    "    return images, dataset_path"
   ]
  },
  {
   "cell_type": "code",
   "execution_count": 7,
   "metadata": {},
   "outputs": [
    {
     "name": "stdout",
     "output_type": "stream",
     "text": [
      "captcha13.jpg\n"
     ]
    },
    {
     "data": {
      "image/png": "[encoded data removed]",
      "text/plain": [
       "<Figure size 432x288 with 1 Axes>"
      ]
     },
     "metadata": {
      "needs_background": "light"
     },
     "output_type": "display_data"
    }
   ],
   "source": [
    "from matplotlib import pyplot as plt\n",
    "from matplotlib.patches import Rectangle\n",
    "import numpy as np\n",
    "\n",
    "# 501\n",
    "# PREPROCESS LOADED IMAGES\n",
    "def preprocessing(image, dataset_path):\n",
    "    print(image)\n",
    "    org_image = cv2.imread(os.path.join(dataset_path, image))\n",
    "    image_gray = cv2.cvtColor(org_image, cv2.COLOR_RGB2GRAY)\n",
    "    # crop_image = image_gray[:int(image_gray.shape[0]*0.9), :]\n",
    "    crop_image = image_gray\n",
    "    image_gray2 = cv2.blur(crop_image, (4,4))\n",
    "    image_sharp = cv2.GaussianBlur(image_gray2, (0,0), sigmaX=1, sigmaY=20, borderType=cv2.BORDER_DEFAULT)\n",
    "    # image_sharp = cv2.addWeighted(image_gray2, 2, image_sharp, -0.05, 0)\n",
    "    image_sharp = cv2.addWeighted(image_gray2, 1.7, image_sharp, -0.01, 0)\n",
    "\n",
    "    if image_sharp[0,0] and image_sharp[-1,-1] > 100:\n",
    "        # print(image_sharp[0,0], image_sharp[-1,-1])\n",
    "        image_sharp_not = cv2.bitwise_not(image_sharp)\n",
    "        ret, image_zeroone = cv2.threshold(image_sharp_not, 20, 255, cv2.THRESH_BINARY)\n",
    "        return image_zeroone, org_image\n",
    "    else:\n",
    "        print('dark bg', end=' | ')\n",
    "        # print(image_sharp[0,0], image_sharp[-1,-1])\n",
    "        return None, org_image\n",
    "\n",
    "\n",
    "images, dataset_path = load_images()\n",
    "preprocessed_image, org_image = preprocessing('captcha13.jpg', dataset_path)\n",
    "if type(preprocessed_image) == np.ndarray:\n",
    "    if np.max(np.histogram(preprocessed_image)[0]) < 6300:\n",
    "        plt.imshow(preprocessed_image)\n",
    "        plt.show()"
   ]
  },
  {
   "cell_type": "code",
   "execution_count": 254,
   "metadata": {},
   "outputs": [],
   "source": [
    "cv2.imshow('name', image_gray)\n",
    "# cv2.imshow('name', image_gray_not)\n",
    "cv2.waitKey(0)\n",
    "# closing all open windows \n",
    "cv2.destroyAllWindows()"
   ]
  },
  {
   "cell_type": "markdown",
   "metadata": {},
   "source": [
    "# Detection"
   ]
  },
  {
   "cell_type": "code",
   "execution_count": 8,
   "metadata": {},
   "outputs": [],
   "source": [
    "from sklearn.cluster import KMeans\n",
    "import numpy as np"
   ]
  },
  {
   "cell_type": "code",
   "execution_count": 9,
   "metadata": {},
   "outputs": [],
   "source": [
    "# GET WHITE PIXELS CORDINATION\n",
    "def get_whitePX_cord(image):\n",
    "    points = []\n",
    "    k=0\n",
    "    for i in range(image.shape[0]):\n",
    "        for j in range(image.shape[1]):\n",
    "            if int(image[i,j]) == 255:\n",
    "                points.append([i,j])\n",
    "                k = k+1\n",
    "    return points\n",
    "\n",
    "whitePX_cord = get_whitePX_cord(preprocessed_image)"
   ]
  },
  {
   "cell_type": "code",
   "execution_count": 10,
   "metadata": {},
   "outputs": [],
   "source": [
    "# FIND DIGIT'S CENTER CORDINATION VIA KMEANS\n",
    "def get_digit_center_cord(cord):\n",
    "    kmeans = KMeans(n_clusters=4, random_state=42, n_init=20, init='k-means++', max_iter=int(1e40)).fit(cord)\n",
    "    # kmeans.inertia_\n",
    "    cluster_centers = kmeans.cluster_centers_\n",
    "    return np.sort(cluster_centers, axis=0)\n",
    "\n",
    "digits_center = get_digit_center_cord(whitePX_cord)"
   ]
  },
  {
   "cell_type": "code",
   "execution_count": 11,
   "metadata": {},
   "outputs": [
    {
     "data": {
      "image/png": "[encoded data removed]",
      "text/plain": [
       "<Figure size 432x288 with 1 Axes>"
      ]
     },
     "metadata": {
      "needs_background": "light"
     },
     "output_type": "display_data"
    }
   ],
   "source": [
    "# PLOT IMAGE AND DRAW RECTANGULAR BOX AROUND DIGITS \n",
    "def display_results(digits_center):\n",
    "    x = digits_center[:,0]\n",
    "    y = digits_center[:,1]\n",
    "    plt.imshow(preprocessed_image)\n",
    "    plt.scatter(y,x, color='red')\n",
    "\n",
    "    for center in digits_center:\n",
    "        plt.gca().add_patch(Rectangle((center[1]-15,center[0]-15),30,30,linewidth=1,edgecolor='r',facecolor='none'))\n",
    "\n",
    "display_results(digits_center)"
   ]
  },
  {
   "cell_type": "markdown",
   "metadata": {},
   "source": [
    "# Extraxt separated number from each catpcha image"
   ]
  },
  {
   "cell_type": "code",
   "execution_count": 12,
   "metadata": {},
   "outputs": [
    {
     "data": {
      "image/png": "[encoded data removed]",
      "text/plain": [
       "<Figure size 432x288 with 4 Axes>"
      ]
     },
     "metadata": {
      "needs_background": "light"
     },
     "output_type": "display_data"
    }
   ],
   "source": [
    "# EXTRACT DIGITS FROM AN IMAGE\n",
    "def digits_extraction(digits_center, preprocessd_image):\n",
    "    digits = []\n",
    "    for center in np.round(digits_center):\n",
    "        start_row = int(center[0]-15)\n",
    "        start_col = int(center[1]-15)\n",
    "        if start_row<0: start_row=0\n",
    "        if start_col<0: start_col=0\n",
    "        digit = preprocessd_image[start_row:start_row+30, start_col:start_col+30]\n",
    "        digits.append(digit)\n",
    "    return digits\n",
    "\n",
    "\n",
    "extracted_digits = digits_extraction(digits_center, preprocessed_image)\n",
    "\n",
    "for i, digit in enumerate(extracted_digits, 1):\n",
    "    plt.subplot(1,4, i)\n",
    "    plt.imshow(digit)"
   ]
  },
  {
   "cell_type": "markdown",
   "metadata": {},
   "source": [
    "# GATHER ALL OF FUNCTION TOGETHER"
   ]
  },
  {
   "cell_type": "code",
   "execution_count": null,
   "metadata": {},
   "outputs": [],
   "source": [
    "images = load_images()\n",
    "# image = 'captcha137.jpg'\n",
    "for image in images:\n",
    "    preprocessed_image = preprocessing(image)[0]\n",
    "    if type(preprocessed_image) == np.ndarray:\n",
    "        if np.max(np.histogram(preprocessed_image)[0]) < 6300:\n",
    "            whitePX_cord = get_whitePX_cord(preprocessed_image)\n",
    "            digits_center = get_digit_center_cord(whitePX_cord)\n",
    "            display_results(digits_center)\n",
    "            extracted_digits = digits_extraction(digits_center, preprocessed_image)\n",
    "            # plt.show()\n",
    "            for i, digit in enumerate(extracted_digits, 1):\n",
    "                plt.subplot(1,4, i)\n",
    "                plt.imshow(digit)\n",
    "                plt.show()\n",
    "                plt.imsave(f'./digits-dataset/{image[:-4]}-{i}.jpg', digit)"
   ]
  },
  {
   "cell_type": "markdown",
   "metadata": {},
   "source": [
    "# Convoloutional model"
   ]
  },
  {
   "cell_type": "code",
   "execution_count": 13,
   "metadata": {},
   "outputs": [],
   "source": [
    "import pandas as pd\n",
    "\n",
    "# LOAD DIGITS\n",
    "X = []\n",
    "for name in df['name']:\n",
    "    path = os.path.join(os.getcwd(), 'digits-dataset/'+name+'.jpg')\n",
    "    image = cv2.imread(path)\n",
    "    image = cv2.cvtColor(image, cv2.COLOR_RGB2GRAY)\n",
    "    X.append(np.array(image))\n",
    "# X = np.asarray(X)\n",
    "\n",
    "\n",
    "# LOAD LABELS DATA\n",
    "with open('labels.txt') as f:\n",
    "    labels = f.readlines()\n",
    "    labels = [x.rstrip('\\n') for x in labels]\n",
    "    \n",
    "labels = np.array([[x.split()[0], x.split()[1]] for x in labels])\n",
    "\n",
    "df = pd.DataFrame(data={'name': labels[:,0],\n",
    "                'digit': labels[:,1]})\n",
    "\n",
    "df['digit'] = df['digit'].astype('int32')"
   ]
  },
  {
   "cell_type": "markdown",
   "metadata": {},
   "source": [
    "# Colvoloutional Model"
   ]
  },
  {
   "cell_type": "code",
   "execution_count": 68,
   "metadata": {},
   "outputs": [],
   "source": [
    "import tensorflow as tf\n",
    "from keras.datasets import mnist\n",
    "from keras import models\n",
    "from keras import layers\n",
    "\n",
    "\n",
    "(xtrain, ytrain), (xtest, ytest) = mnist.load_data()\n",
    "\n",
    "# plt.imshow(xtrain[0], cmap=plt.cm.binary)\n",
    "\n",
    "xtrain = np.reshape(xtrain, (xtrain.shape[0], 28*28))\n",
    "xtrin = xtrain.astype('float32') / 255\n",
    "\n",
    "xtest = np.reshape(xtest, (xtest.shape[0], 28*28))\n",
    "xtest = xtest.astype('float32') / 255\n"
   ]
  },
  {
   "cell_type": "code",
   "execution_count": 69,
   "metadata": {},
   "outputs": [
    {
     "name": "stdout",
     "output_type": "stream",
     "text": [
      "Model: \"sequential_4\"\n",
      "_________________________________________________________________\n",
      "Layer (type)                 Output Shape              Param #   \n",
      "=================================================================\n",
      "dense_8 (Dense)              (None, 512)               401920    \n",
      "_________________________________________________________________\n",
      "dense_9 (Dense)              (None, 10)                5130      \n",
      "=================================================================\n",
      "Total params: 407,050\n",
      "Trainable params: 407,050\n",
      "Non-trainable params: 0\n",
      "_________________________________________________________________\n"
     ]
    }
   ],
   "source": [
    "model = models.Sequential()\n",
    "model.add(layers.Dense(512, activation='relu', input_shape=(28 * 28,)))\n",
    "model.add(layers.Dense(10, activation='softmax'))\n",
    "\n",
    "model.compile(optimizer='rmsprop', loss='sparse_categorical_crossentropy', metrics='accuracy')\n",
    "model.summary()"
   ]
  },
  {
   "cell_type": "code",
   "execution_count": 70,
   "metadata": {},
   "outputs": [
    {
     "name": "stdout",
     "output_type": "stream",
     "text": [
      "Epoch 1/3\n",
      "750/750 [==============================] - 14s 16ms/step - loss: 14.8422 - accuracy: 0.8468 - val_loss: 1.0217 - val_accuracy: 0.9339\n",
      "Epoch 2/3\n",
      "750/750 [==============================] - 12s 16ms/step - loss: 0.7893 - accuracy: 0.9461 - val_loss: 0.8785 - val_accuracy: 0.9498\n",
      "Epoch 3/3\n",
      "750/750 [==============================] - 15s 19ms/step - loss: 0.5831 - accuracy: 0.9631 - val_loss: 0.8034 - val_accuracy: 0.9589\n"
     ]
    },
    {
     "data": {
      "text/plain": [
       "<tensorflow.python.keras.callbacks.History at 0x77107a57f0>"
      ]
     },
     "execution_count": 70,
     "metadata": {},
     "output_type": "execute_result"
    }
   ],
   "source": [
    "model.fit(\n",
    "    xtrain,\n",
    "    ytrain,\n",
    "    verbose=1,\n",
    "    epochs=3,\n",
    "    batch_size=64,\n",
    "    shuffle=True,\n",
    "    validation_split=0.2,\n",
    ")"
   ]
  },
  {
   "cell_type": "code",
   "execution_count": 88,
   "metadata": {},
   "outputs": [
    {
     "data": {
      "text/plain": [
       "(2, 2)"
      ]
     },
     "execution_count": 88,
     "metadata": {},
     "output_type": "execute_result"
    }
   ],
   "source": [
    "ypred = model.predict(xtest[1:2])\n",
    "\n",
    "np.argmax(ypred), ytest[1]"
   ]
  },
  {
   "cell_type": "code",
   "execution_count": null,
   "metadata": {},
   "outputs": [],
   "source": []
  }
 ],
 "metadata": {
  "interpreter": {
   "hash": "5513eef5830d037cc6a25309dd5c30cb296094b869bc5220ef884004efd165a0"
  },
  "kernelspec": {
   "display_name": "Python 3.8.0 64-bit",
   "language": "python",
   "name": "python3"
  },
  "language_info": {
   "codemirror_mode": {
    "name": "ipython",
    "version": 3
   },
   "file_extension": ".py",
   "mimetype": "text/x-python",
   "name": "python",
   "nbconvert_exporter": "python",
   "pygments_lexer": "ipython3",
   "version": "3.8.0"
  },
  "orig_nbformat": 4
 },
 "nbformat": 4,
 "nbformat_minor": 2
}

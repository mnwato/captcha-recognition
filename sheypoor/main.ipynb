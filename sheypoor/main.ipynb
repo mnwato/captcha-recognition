{
  "cells": [
    {
      "cell_type": "markdown",
      "metadata": {
        "colab_type": "text",
        "id": "view-in-github"
      },
      "source": [
        "<a href=\"https://colab.research.google.com/github/mnwato/captcha-recognition/blob/master/sheypoor/main.ipynb\" target=\"_parent\"><img src=\"https://colab.research.google.com/assets/colab-badge.svg\" alt=\"Open In Colab\"/></a>"
      ]
    },
    {
      "cell_type": "code",
      "execution_count": null,
      "metadata": {
        "colab": {
          "base_uri": "https://localhost:8080/"
        },
        "id": "WmXU0j3pUxlF",
        "outputId": "13d97243-fddb-4ebc-c070-00f036758523"
      },
      "outputs": [],
      "source": [
        "use_colab = True\n",
        "\n",
        "# labels\n",
        "!gdown --i 1V_mFYCQk2tbvi9Nc6WXQrllQWJV0gOzg\n",
        "# digits\n",
        "!gdown --i 141HrMeZvari7mCBmqyneAL4QI1qwz2qI\n",
        "# chaptcha images\n",
        "!gdown --i 1egp2ncrof0wuG-BQbVwSAWK64bB4zl1b\n",
        "\n",
        "!unzip /content/dataset.zip\n",
        "!rm /content/dataset.zip\n",
        "!unzip /content/digits-dataset.zip\n",
        "!rm /content/digits-dataset.zip"
      ]
    },
    {
      "cell_type": "markdown",
      "metadata": {
        "id": "yiTjTmWcT1IA"
      },
      "source": [
        "# Getting golestan captcha"
      ]
    },
    {
      "cell_type": "code",
      "execution_count": null,
      "metadata": {
        "id": "rkDHnReAT1IG"
      },
      "outputs": [],
      "source": [
        "import requests\n",
        "import base64\n",
        "import numpy as np\n",
        "import time\n",
        "\n",
        "url = 'https://edu.znu.ac.ir/Forms/AuthenticateUser/captcha.aspx?0.40381493127445034&x859=386&x763=844'\n",
        "headers = {\"User-Agent\": \"Mozilla/5.0 (Windows NT 6.3; Win64; x64) AppleWebKit/537.36 (KHTML, like Gecko) Chrome/98.0.4758.82 Safari/537.36\"}\n",
        "\n",
        "\n",
        "for i in range(944,1000):\n",
        "    x = requests.get(url, headers=headers, stream=True)\n",
        "\n",
        "    a = x.content\n",
        "\n",
        "    with open(f'./dataset-golestan/captcha{i}.jpg','wb') as f:\n",
        "        f.write(a)\n",
        "    delay = np.random.randint(2)\n",
        "    time.sleep(10)"
      ]
    },
    {
      "cell_type": "markdown",
      "metadata": {
        "id": "XoGZ4scAT1II"
      },
      "source": [
        "# Getting captcha from sheypoor website"
      ]
    },
    {
      "cell_type": "code",
      "execution_count": null,
      "metadata": {
        "id": "08HTuk3VT1IJ"
      },
      "outputs": [],
      "source": [
        "import requests\n",
        "import base64\n",
        "import numpy as np\n",
        "import time\n",
        "\n",
        "url = 'https://www.sheypoor.com/api/web/captcha/refresh'\n",
        "headers = {\n",
        "    \"authority\": \"www.sheypoor.com\",\n",
        "    \"method\": \"POST\",\n",
        "    \"path\": \"/api/web/captcha/refresh\",\n",
        "    \"scheme\": \"https\",\n",
        "    \"accept\": \"*/*\",\n",
        "    \"accept-encoding\": \"gzip, deflate, br\",\n",
        "    \"accept-language\": \"en-US,en;q=0.9\",\n",
        "    \"content-length\": \"38\",\n",
        "    \"content-type\": \"application/x-www-form-urlencoded; charset=UTF-8\",\n",
        "    \"cookie\": \"plog=False; ts=b536dc923761e246fa3d552db50df071; track_id=e2e687919ce5e3f3a9a85f682145651c; AMP_TOKEN=%24NOT_FOUND; _ga=GA1.2.527994953.1644523644; _gid=GA1.2.672309292.1644523644; _gat=1\",\n",
        "    \"origin\": \"https://www.sheypoor.com\",\n",
        "    # \"referer\": \"https://www.sheypoor.com/%D9%81%D8%B1%D8%B2-%D8%A8%D8%B2%D8%B1%DA%AF-%D8%A7%D9%87%D9%86%DA%AF%D8%B1%DB%8C-%D8%B3%D9%86%DA%AF%D8%A8%D8%B1%DB%8C-%D8%AF%DB%8C%D9%85%D8%B1-%D8%AF%D8%A7%D8%B1-%D8%A8%D8%A7%D8%B3-402738844.html\",\n",
        "    \"sec-ch-ua\": '\"Not A;Brand\";v=\"99\", \"Chromium\";v=\"98\", \"Google Chrome\";v=\"98\"',\n",
        "    \"sec-ch-ua-mobile\": \"?0\",\n",
        "    \"sec-ch-ua-platform\": \"Windows\",\n",
        "    \"sec-fetch-dest\": \"empty\",\n",
        "    \"sec-fetch-mode\": \"cors\", \n",
        "    \"sec-fetch-site\": \"same-origin\",\n",
        "    \"user-agent\": \"Mozilla/5.0 (Windows NT 6.3; Win64; x64) AppleWebKit/537.36 (KHTML, like Gecko) Chrome/98.0.4758.82 Safari/537.36\",\n",
        "    \"x-requested-with\": \"XMLHttpRequest\"\n",
        "}\n",
        "data = {\"token\": \"103159f5a73c63cacc4c9d8680d45325\"}\n",
        "\n",
        "for i in range(500,1000):\n",
        "    x = requests.post(url, headers=headers, data=data, stream=True)\n",
        "\n",
        "    a = x.json()['data']['image']\n",
        "    a = a.encode('utf-8')\n",
        "\n",
        "    with open(f'./dataset/captcha{i}.jpg','wb') as f:\n",
        "        f.write(base64.decodebytes(a))\n",
        "    delay = np.random.randint(5)\n",
        "    # time.sleep(delay)"
      ]
    },
    {
      "cell_type": "markdown",
      "metadata": {
        "id": "OWwVGHY_T1IK"
      },
      "source": [
        "# preprocessing images"
      ]
    },
    {
      "cell_type": "code",
      "execution_count": 3,
      "metadata": {
        "id": "8l6fIgTET1IL"
      },
      "outputs": [],
      "source": [
        "# LOADING IMAGES\n",
        "\n",
        "import cv2\n",
        "import os\n",
        "# import pytesseract\n",
        "# pytesseract.pytesseract.tesseract_cmd = r'C:\\Program Files\\Tesseract-OCR\\tesseract.exe'\n",
        "\n",
        "def load_images():\n",
        "    root_path = os.getcwd()\n",
        "    dataset_path = os.path.join(root_path, 'dataset')\n",
        "    # dataset_path = os.path.join(root_path, 'dataset-golestan')\n",
        "    images = [img for img in os.listdir(dataset_path)]\n",
        "    return images, dataset_path"
      ]
    },
    {
      "cell_type": "code",
      "execution_count": 4,
      "metadata": {
        "colab": {
          "base_uri": "https://localhost:8080/",
          "height": 160
        },
        "id": "2QfUDewrT1IM",
        "outputId": "20c7db8d-1f05-4f49-9463-a2e7908fcdba"
      },
      "outputs": [
        {
          "name": "stdout",
          "output_type": "stream",
          "text": [
            "captcha13.jpg\n"
          ]
        },
        {
          "data": {
            "image/png": "[encoded data removed]",
            "text/plain": [
              "<Figure size 432x288 with 1 Axes>"
            ]
          },
          "metadata": {
            "needs_background": "light"
          },
          "output_type": "display_data"
        }
      ],
      "source": [
        "from matplotlib import pyplot as plt\n",
        "from matplotlib.patches import Rectangle\n",
        "import numpy as np\n",
        "\n",
        "# 501\n",
        "# PREPROCESS LOADED IMAGES\n",
        "def preprocessing(image, dataset_path):\n",
        "    print(image)\n",
        "    org_image = cv2.imread(os.path.join(dataset_path, image))\n",
        "    image_gray = cv2.cvtColor(org_image, cv2.COLOR_RGB2GRAY)\n",
        "    # crop_image = image_gray[:int(image_gray.shape[0]*0.9), :]\n",
        "    crop_image = image_gray\n",
        "    image_gray2 = cv2.blur(crop_image, (4,4))\n",
        "    image_sharp = cv2.GaussianBlur(image_gray2, (0,0), sigmaX=1, sigmaY=20, borderType=cv2.BORDER_DEFAULT)\n",
        "    # image_sharp = cv2.addWeighted(image_gray2, 2, image_sharp, -0.05, 0)\n",
        "    image_sharp = cv2.addWeighted(image_gray2, 1.7, image_sharp, -0.01, 0)\n",
        "\n",
        "    if image_sharp[0,0] and image_sharp[-1,-1] > 100:\n",
        "        # print(image_sharp[0,0], image_sharp[-1,-1])\n",
        "        image_sharp_not = cv2.bitwise_not(image_sharp)\n",
        "        ret, image_zeroone = cv2.threshold(image_sharp_not, 20, 255, cv2.THRESH_BINARY)\n",
        "        return image_zeroone, org_image\n",
        "    else:\n",
        "        # print('dark bg', end=' | ')\n",
        "        # print(image_sharp[0,0], image_sharp[-1,-1])\n",
        "        return None, org_image\n",
        "\n",
        "\n",
        "images, dataset_path = load_images()\n",
        "preprocessed_image, org_image = preprocessing('captcha13.jpg', dataset_path)\n",
        "if type(preprocessed_image) == np.ndarray:\n",
        "    if np.max(np.histogram(preprocessed_image)[0]) < 6300:\n",
        "        plt.imshow(preprocessed_image)\n",
        "        plt.show()"
      ]
    },
    {
      "cell_type": "code",
      "execution_count": 4,
      "metadata": {
        "id": "5ZA-B3yCT1IO"
      },
      "outputs": [],
      "source": [
        "# cv2.imshow('name', preprocessed_image)\n",
        "# # cv2.imshow('name', image_gray_not)\n",
        "# cv2.waitKey(0)\n",
        "# # closing all open windows \n",
        "# cv2.destroyAllWindows()"
      ]
    },
    {
      "cell_type": "markdown",
      "metadata": {
        "id": "8UKcyn0AT1IP"
      },
      "source": [
        "# Detection"
      ]
    },
    {
      "cell_type": "code",
      "execution_count": 5,
      "metadata": {
        "id": "niK4ESJ4T1IP"
      },
      "outputs": [],
      "source": [
        "from sklearn.cluster import KMeans\n",
        "import numpy as np"
      ]
    },
    {
      "cell_type": "code",
      "execution_count": 6,
      "metadata": {
        "id": "5ILprFLJT1IQ"
      },
      "outputs": [],
      "source": [
        "# GET WHITE PIXELS CORDINATION\n",
        "def get_whitePX_cord(image):\n",
        "    points = []\n",
        "    k=0\n",
        "    for i in range(image.shape[0]):\n",
        "        for j in range(image.shape[1]):\n",
        "            if int(image[i,j]) == 255:\n",
        "                points.append([i,j])\n",
        "                k = k+1\n",
        "    return points\n",
        "\n",
        "whitePX_cord = get_whitePX_cord(preprocessed_image)"
      ]
    },
    {
      "cell_type": "code",
      "execution_count": 7,
      "metadata": {
        "id": "9AGcK3M4T1IR"
      },
      "outputs": [],
      "source": [
        "# FIND DIGIT'S CENTER CORDINATION VIA KMEANS\n",
        "def get_digit_center_cord(cord):\n",
        "    kmeans = KMeans(n_clusters=4, random_state=42, n_init=20, init='k-means++', max_iter=int(1e40)).fit(cord)\n",
        "    # kmeans.inertia_\n",
        "    cluster_centers = kmeans.cluster_centers_\n",
        "    return np.sort(cluster_centers, axis=0)\n",
        "\n",
        "digits_center = get_digit_center_cord(whitePX_cord)"
      ]
    },
    {
      "cell_type": "code",
      "execution_count": 16,
      "metadata": {
        "id": "vJq-w3EgT1IR"
      },
      "outputs": [],
      "source": [
        "# PLOT IMAGE AND DRAW RECTANGULAR BOX AROUND DIGITS \n",
        "def display_results(digits_center):\n",
        "    x = digits_center[:,0]\n",
        "    y = digits_center[:,1]\n",
        "    plt.imshow(preprocessed_image)\n",
        "    plt.scatter(y,x, color='red')\n",
        "\n",
        "    for center in digits_center:\n",
        "        plt.gca().add_patch(Rectangle((center[1]-15,center[0]-15),30,30,linewidth=1,edgecolor='r',facecolor='none'))\n",
        "\n",
        "display_results(digits_center)"
      ]
    },
    {
      "cell_type": "markdown",
      "metadata": {
        "id": "UDJG4t9xT1IS"
      },
      "source": [
        "# Extraxt separated number from each catpcha image"
      ]
    },
    {
      "cell_type": "code",
      "execution_count": 9,
      "metadata": {
        "colab": {
          "base_uri": "https://localhost:8080/",
          "height": 123
        },
        "id": "mSxMTqKOT1IS",
        "outputId": "62e6bd82-7f1c-41cf-fb0d-173be829f9ad"
      },
      "outputs": [
        {
          "data": {
            "image/png": "[encoded data removed]",
            "text/plain": [
              "<Figure size 432x288 with 4 Axes>"
            ]
          },
          "metadata": {
            "needs_background": "light"
          },
          "output_type": "display_data"
        }
      ],
      "source": [
        "# EXTRACT DIGITS FROM AN IMAGE\n",
        "def digits_extraction(digits_center, preprocessd_image):\n",
        "    digits = []\n",
        "    for center in np.round(digits_center):\n",
        "        start_row = int(center[0]-15)\n",
        "        start_col = int(center[1]-15)\n",
        "        if start_row<0: start_row=0\n",
        "        if start_col<0: start_col=0\n",
        "        digit = preprocessd_image[start_row:start_row+30, start_col:start_col+30]\n",
        "        digits.append(digit)\n",
        "    return digits\n",
        "\n",
        "\n",
        "extracted_digits = digits_extraction(digits_center, preprocessed_image)\n",
        "\n",
        "for i, digit in enumerate(extracted_digits, 1):\n",
        "    plt.subplot(1,4, i)\n",
        "    plt.imshow(digit)"
      ]
    },
    {
      "cell_type": "markdown",
      "metadata": {
        "id": "hZ4WXqW-T1IT"
      },
      "source": [
        "# GATHER ALL OF FUNCTION TOGETHER"
      ]
    },
    {
      "cell_type": "code",
      "execution_count": null,
      "metadata": {
        "id": "Ont8ojU5T1IT"
      },
      "outputs": [],
      "source": [
        "images, dataset_path = load_images()\n",
        "# image = 'captcha137.jpg'\n",
        "for image in images:\n",
        "    preprocessed_image = preprocessing(image, dataset_path)[0]\n",
        "    if type(preprocessed_image) == np.ndarray:\n",
        "        if np.max(np.histogram(preprocessed_image)[0]) < 6300:\n",
        "            whitePX_cord = get_whitePX_cord(preprocessed_image)\n",
        "            digits_center = get_digit_center_cord(whitePX_cord)\n",
        "            # display_results(digits_center)\n",
        "            extracted_digits = digits_extraction(digits_center, preprocessed_image)\n",
        "            # plt.show()\n",
        "            for i, digit in enumerate(extracted_digits, 1):\n",
        "                plt.subplot(1,4, i)\n",
        "                # plt.imshow(digit)\n",
        "                # plt.show()\n",
        "                if digit.size == 900:\n",
        "                  plt.imsave(f'./digits-dataset2/{image[:-4]}-{i}.jpg', digit)"
      ]
    },
    {
      "cell_type": "markdown",
      "metadata": {
        "id": "Ssb_Ls8kT1IT"
      },
      "source": [
        "# Convoloutional model"
      ]
    },
    {
      "cell_type": "markdown",
      "metadata": {
        "id": "-46rHlGIv7Ir"
      },
      "source": [
        "## Loading data"
      ]
    },
    {
      "cell_type": "code",
      "execution_count": 386,
      "metadata": {
        "id": "KDlZl7jiT1IU"
      },
      "outputs": [],
      "source": [
        "import pandas as pd\n",
        "\n",
        "# LOAD LABELS DATA\n",
        "with open('labels.txt') as f:\n",
        "    labels = f.readlines()\n",
        "    labels = [x.rstrip('\\n') for x in labels]\n",
        "\n",
        "labels_dict = {}\n",
        "for elem in labels:\n",
        "  elem = elem.split()\n",
        "  if elem[0] not in labels_dict:\n",
        "    labels_dict.update({elem[0]: int(elem[1])})\n",
        "\n",
        "\n",
        "# LOAD DIGITS\n",
        "X = []\n",
        "root_path = os.path.join(os.getcwd(), 'digits-dataset2')\n",
        "images_name = os.listdir(root_path)\n",
        "images_path = [os.path.join(os.getcwd(), 'digits-dataset2', img) for img in images_name]\n",
        "\n",
        "df = pd.DataFrame(columns=['name','digit','image'])\n",
        "# df['name'] = list(labels_dict.keys())\n",
        "# df['digit'] = list(labels_dict.values())\n",
        "\n",
        "digits = []\n",
        "names = []\n",
        "for name in images_name:\n",
        "  if name[:-4] in labels_dict:\n",
        "    digits.append(labels_dict[name[:-4]])\n",
        "    names.append(name[:-4])\n",
        "    index = images_name.index(name)\n",
        "    path = images_path[index]\n",
        "\n",
        "    image = cv2.imread(path)\n",
        "    image = cv2.cvtColor(image, cv2.COLOR_RGB2GRAY)\n",
        "    if image.size == 900:\n",
        "      X.append(image)\n",
        "\n",
        "df['name'] = names\n",
        "df['digit'] = digits\n",
        "df['image'] = X\n",
        "X = np.array(X)"
      ]
    },
    {
      "cell_type": "code",
      "execution_count": 453,
      "metadata": {
        "id": "u6VrXWrNFXbZ"
      },
      "outputs": [],
      "source": [
        "a = []\n",
        "for i in range(500):\n",
        "  if i%2 == 0:\n",
        "    a.append([i,1])\n",
        "  else:\n",
        "    a.append([i,0])\n",
        "\n",
        "a = np.array(a)\n",
        "\n",
        "x = a[:,0].reshape((len(a),1))\n",
        "y = a[:,1]"
      ]
    },
    {
      "cell_type": "code",
      "execution_count": 487,
      "metadata": {
        "colab": {
          "base_uri": "https://localhost:8080/"
        },
        "id": "dc8ztOQeEGC3",
        "outputId": "b95da836-ed51-4c97-ae39-97e13a74c1e2"
      },
      "outputs": [
        {
          "data": {
            "text/plain": [
              "RandomForestClassifier(n_jobs=-1, random_state=42)"
            ]
          },
          "execution_count": 487,
          "metadata": {},
          "output_type": "execute_result"
        }
      ],
      "source": [
        "from sklearn.linear_model import LogisticRegression\n",
        "from sklearn.svm import LinearSVC\n",
        "from sklearn.tree import DecisionTreeClassifier\n",
        "from sklearn.ensemble import RandomForestClassifier\n",
        "from sklearn.naive_bayes import GaussianNB\n",
        "from sklearn.neighbors import KNeighborsClassifier\n",
        "\n",
        "# model = RandomForestClassifier(n_estimators=100, random_state=42, n_jobs=-1)\n",
        "model = DecisionTreeClassifier()\n",
        "# model.fit(x, y)\n",
        "model.fit(xtrain2, ytrain2)"
      ]
    },
    {
      "cell_type": "code",
      "execution_count": 486,
      "metadata": {
        "colab": {
          "base_uri": "https://localhost:8080/"
        },
        "id": "GUmm9r95ROJL",
        "outputId": "ae06773d-6fe7-493b-8d82-bc483e93222a"
      },
      "outputs": [
        {
          "data": {
            "text/plain": [
              "array([1, 0, 0, 0, 1, 1, 1, 1])"
            ]
          },
          "execution_count": 486,
          "metadata": {},
          "output_type": "execute_result"
        }
      ],
      "source": [
        "test = np.array([22,23,3,1,0,2,4,100])\n",
        "test = np.reshape(test, (len(test),1))\n",
        "model.predict(test)"
      ]
    },
    {
      "cell_type": "code",
      "execution_count": 488,
      "metadata": {
        "colab": {
          "base_uri": "https://localhost:8080/"
        },
        "id": "f4qRsVJBGbqT",
        "outputId": "a8233427-ca45-488f-ce85-970f65b16c44"
      },
      "outputs": [
        {
          "name": "stdout",
          "output_type": "stream",
          "text": [
            "[0 8 0 4 6 9 2 4 1 9]\n",
            "[2 2 2 2 2 2 2 2 2 2]\n",
            "              precision    recall  f1-score   support\n",
            "\n",
            "           0       0.00      0.00      0.00         2\n",
            "           1       0.00      0.00      0.00         1\n",
            "           2       0.10      1.00      0.18         1\n",
            "           4       0.00      0.00      0.00         2\n",
            "           6       0.00      0.00      0.00         1\n",
            "           8       0.00      0.00      0.00         1\n",
            "           9       0.00      0.00      0.00         2\n",
            "\n",
            "    accuracy                           0.10        10\n",
            "   macro avg       0.01      0.14      0.03        10\n",
            "weighted avg       0.01      0.10      0.02        10\n",
            "\n"
          ]
        },
        {
          "name": "stderr",
          "output_type": "stream",
          "text": [
            "/usr/local/lib/python3.7/dist-packages/sklearn/metrics/_classification.py:1318: UndefinedMetricWarning: Precision and F-score are ill-defined and being set to 0.0 in labels with no predicted samples. Use `zero_division` parameter to control this behavior.\n",
            "  _warn_prf(average, modifier, msg_start, len(result))\n",
            "/usr/local/lib/python3.7/dist-packages/sklearn/metrics/_classification.py:1318: UndefinedMetricWarning: Precision and F-score are ill-defined and being set to 0.0 in labels with no predicted samples. Use `zero_division` parameter to control this behavior.\n",
            "  _warn_prf(average, modifier, msg_start, len(result))\n",
            "/usr/local/lib/python3.7/dist-packages/sklearn/metrics/_classification.py:1318: UndefinedMetricWarning: Precision and F-score are ill-defined and being set to 0.0 in labels with no predicted samples. Use `zero_division` parameter to control this behavior.\n",
            "  _warn_prf(average, modifier, msg_start, len(result))\n"
          ]
        }
      ],
      "source": [
        "ypred = model.predict(xtest2)\n",
        "print(ytest2)\n",
        "print(ypred)\n",
        "\n",
        "print(classification_report(ytest2, ypred))"
      ]
    },
    {
      "cell_type": "code",
      "execution_count": 301,
      "metadata": {
        "colab": {
          "base_uri": "https://localhost:8080/",
          "height": 283
        },
        "id": "ltV-dXikKBon",
        "outputId": "d8a9f0cc-a7a0-4022-b0b1-fb48605a1e6f"
      },
      "outputs": [
        {
          "data": {
            "text/plain": [
              "<matplotlib.image.AxesImage at 0x7fdbc5599450>"
            ]
          },
          "execution_count": 301,
          "metadata": {},
          "output_type": "execute_result"
        },
        {
          "data": {
            "image/png": "[encoded data removed]",
            "text/plain": [
              "<Figure size 432x288 with 1 Axes>"
            ]
          },
          "metadata": {
            "needs_background": "light"
          },
          "output_type": "display_data"
        }
      ],
      "source": [
        "plt.imshow(X[-10])"
      ]
    },
    {
      "cell_type": "markdown",
      "metadata": {
        "id": "yXMJEamKT1IU"
      },
      "source": [
        "# Colvoloutional Model"
      ]
    },
    {
      "cell_type": "code",
      "execution_count": 323,
      "metadata": {
        "id": "00S-wYQuT1IU"
      },
      "outputs": [],
      "source": [
        "import tensorflow as tf\n",
        "from keras.datasets import mnist\n",
        "from keras import models\n",
        "from keras import layers\n",
        "import keras\n",
        "\n",
        "\n",
        "(xtrain_28, ytrain_28), (xtest_28, ytest_28) = mnist.load_data()\n",
        "\n",
        "# plt.imshow(xtrain[0], cmap=plt.cm.binary)\n",
        "\n",
        "xtrain = np.reshape(xtrain_28, (xtrain_28.shape[0], 28*28))\n",
        "xtrain = xtrain.astype('float32') / 255\n",
        "\n",
        "xtest = np.reshape(xtest_28, (xtest_28.shape[0], 28*28))\n",
        "xtest = xtest.astype('float32') / 255\n"
      ]
    },
    {
      "cell_type": "code",
      "execution_count": 324,
      "metadata": {
        "colab": {
          "base_uri": "https://localhost:8080/"
        },
        "id": "iTs9bnHET1IV",
        "outputId": "c17c46ce-4277-4100-9d34-fa5a82c373b1"
      },
      "outputs": [
        {
          "name": "stdout",
          "output_type": "stream",
          "text": [
            "Model: \"model_54\"\n",
            "_________________________________________________________________\n",
            " Layer (type)                Output Shape              Param #   \n",
            "=================================================================\n",
            " input_61 (InputLayer)       [(None, 784)]             0         \n",
            "                                                                 \n",
            " dense_130 (Dense)           (None, 512)               401920    \n",
            "                                                                 \n",
            " dense_131 (Dense)           (None, 256)               131328    \n",
            "                                                                 \n",
            " dense_132 (Dense)           (None, 10)                2570      \n",
            "                                                                 \n",
            "=================================================================\n",
            "Total params: 535,818\n",
            "Trainable params: 535,818\n",
            "Non-trainable params: 0\n",
            "_________________________________________________________________\n"
          ]
        }
      ],
      "source": [
        "input_layer = keras.Input(shape=(28*28,))\n",
        "x = layers.Dense(512, activation='relu', input_shape=(28 * 28,))(input_layer)\n",
        "x = layers.Dense(256, activation='relu')(x)\n",
        "out = layers.Dense(10, activation='softmax')(x)\n",
        "model = keras.Model(inputs=input_layer, outputs=out)\n",
        "\n",
        "model.compile(optimizer='rmsprop', loss='sparse_categorical_crossentropy', metrics='accuracy')\n",
        "model.summary()"
      ]
    },
    {
      "cell_type": "code",
      "execution_count": 325,
      "metadata": {
        "colab": {
          "base_uri": "https://localhost:8080/"
        },
        "id": "OXUUU7TtT1IV",
        "outputId": "7ef06ade-8972-4110-ffa3-3202b1697e50"
      },
      "outputs": [
        {
          "name": "stdout",
          "output_type": "stream",
          "text": [
            "Epoch 1/3\n",
            "422/422 [==============================] - 10s 22ms/step - loss: 0.2422 - accuracy: 0.9254 - val_loss: 0.1072 - val_accuracy: 0.9652\n",
            "Epoch 2/3\n",
            "422/422 [==============================] - 8s 18ms/step - loss: 0.0875 - accuracy: 0.9729 - val_loss: 0.0750 - val_accuracy: 0.9787\n",
            "Epoch 3/3\n",
            "422/422 [==============================] - 8s 19ms/step - loss: 0.0575 - accuracy: 0.9821 - val_loss: 0.0856 - val_accuracy: 0.9733\n"
          ]
        }
      ],
      "source": [
        "history = model.fit(\n",
        "                xtrain,\n",
        "                ytrain_28,\n",
        "                # xtrain2,\n",
        "                # ytrain2,\n",
        "                verbose=1,\n",
        "                epochs=3,\n",
        "                # epochs=15,\n",
        "                batch_size=128,\n",
        "                # batch_size=2,\n",
        "                validation_split=0.1,\n",
        "            )"
      ]
    },
    {
      "cell_type": "code",
      "execution_count": 383,
      "metadata": {
        "colab": {
          "base_uri": "https://localhost:8080/"
        },
        "id": "sIWpHXNTOrOB",
        "outputId": "9e9acf54-5e93-4ec8-8895-4512fed14990"
      },
      "outputs": [
        {
          "name": "stdout",
          "output_type": "stream",
          "text": [
            "Model: \"model_72\"\n",
            "_________________________________________________________________\n",
            " Layer (type)                Output Shape              Param #   \n",
            "=================================================================\n",
            " input_79 (InputLayer)       [(None, 784)]             0         \n",
            "                                                                 \n",
            " dense_130 (Dense)           (None, 512)               401920    \n",
            "                                                                 \n",
            " dense_131 (Dense)           (None, 256)               131328    \n",
            "                                                                 \n",
            " dense_184 (Dense)           (None, 128)               32896     \n",
            "                                                                 \n",
            " dense_185 (Dense)           (None, 10)                1290      \n",
            "                                                                 \n",
            " dense_186 (Dense)           (None, 10)                110       \n",
            "                                                                 \n",
            "=================================================================\n",
            "Total params: 567,544\n",
            "Trainable params: 34,296\n",
            "Non-trainable params: 533,248\n",
            "_________________________________________________________________\n"
          ]
        }
      ],
      "source": [
        "# transfer learning\n",
        "from tensorflow import keras\n",
        "# model.layers[1].trainable = False\n",
        "# model.layers[2].trainable = False\n",
        "\n",
        "\n",
        "input_layer2 = keras.Input(shape=(28*28,))\n",
        "transfered_layer = (model.layers[1])(input_layer2)\n",
        "transfered_layer = (model.layers[2])(transfered_layer)\n",
        "added_layer = layers.Dense(128, activation='relu')(transfered_layer)\n",
        "added_layer = layers.Dense(10, activation='relu')(added_layer)\n",
        "out2 = layers.Dense(10, activation='relu')(added_layer)\n",
        "new_model = keras.Model(inputs=input_layer2, outputs=out2)\n",
        "\n",
        "opt = tf.keras.optimizers.Adam(learning_rate=0.1)\n",
        "new_model.compile(optimizer=opt, loss='sparse_categorical_crossentropy', metrics='accuracy',)\n",
        "\n",
        "new_model.layers[1].trainable = False\n",
        "new_model.layers[2].trainable = False\n",
        "\n",
        "new_model.summary()"
      ]
    },
    {
      "cell_type": "code",
      "execution_count": 414,
      "metadata": {
        "colab": {
          "base_uri": "https://localhost:8080/"
        },
        "id": "Kjo7VugSj33a",
        "outputId": "7cade5a9-2faa-4d7d-ae65-c5c4bfb7ad14"
      },
      "outputs": [
        {
          "data": {
            "text/plain": [
              "((500, 900), (10, 900))"
            ]
          },
          "execution_count": 414,
          "metadata": {},
          "output_type": "execute_result"
        }
      ],
      "source": [
        "# new_X = X[:,1:-1,1:-1]\n",
        "new_X = X\n",
        "\n",
        "xtrain2 = np.reshape(new_X, (new_X.shape[0], 30*30))\n",
        "\n",
        "# train\n",
        "xtrain2 = xtrain2[:-10]\n",
        "xtrain2 = xtrain2.astype('float')/255\n",
        "ytrain2 = df.digit.values[:-10]\n",
        "#test\n",
        "xtest2 = xtrain2[-10:]\n",
        "xtest2 = xtest2.astype('float')/255\n",
        "ytest2 = df.digit.values[-10:]\n",
        "\n",
        "xtrain2.shape, xtest2.shape"
      ]
    },
    {
      "cell_type": "code",
      "execution_count": null,
      "metadata": {
        "id": "T1kJjO3nwPvS"
      },
      "outputs": [],
      "source": [
        "history = new_model.fit(\n",
        "                    xtrain2,\n",
        "                    ytrain2,\n",
        "                    verbose=1,\n",
        "                    epochs=20,\n",
        "                    batch_size=2,\n",
        "                    # validation_split=0.1,\n",
        "                )"
      ]
    },
    {
      "cell_type": "code",
      "execution_count": 341,
      "metadata": {
        "colab": {
          "base_uri": "https://localhost:8080/",
          "height": 348
        },
        "id": "d9GLvAXb9td6",
        "outputId": "be24a8af-3ab6-427d-ccce-dfb4461bb845"
      },
      "outputs": [
        {
          "data": {
            "text/plain": [
              "[<matplotlib.lines.Line2D at 0x7fdbbd591310>]"
            ]
          },
          "execution_count": 341,
          "metadata": {},
          "output_type": "execute_result"
        },
        {
          "data": {
            "image/png": "[encoded data removed]",
            "text/plain": [
              "<Figure size 1080x360 with 2 Axes>"
            ]
          },
          "metadata": {
            "needs_background": "light"
          },
          "output_type": "display_data"
        }
      ],
      "source": [
        "train_items = ['loss','val_loss']\n",
        "val_items = ['accuracy','val_accuracy']\n",
        "\n",
        "plt.figure(figsize=(15,5))\n",
        "plt.subplot(1,2,1)\n",
        "plt.plot(history.history[train_items[0]])\n",
        "# plt.plot(history.history[train_items[1]])\n",
        "\n",
        "plt.subplot(1,2,2)\n",
        "plt.plot(history.history[val_items[0]])\n",
        "plt.plot(history.history[val_items[1]])"
      ]
    },
    {
      "cell_type": "code",
      "execution_count": 228,
      "metadata": {
        "colab": {
          "base_uri": "https://localhost:8080/"
        },
        "id": "xXE-zdQrT1IW",
        "outputId": "8b236cf7-54e9-4ff7-a773-f209baf47c88"
      },
      "outputs": [
        {
          "data": {
            "text/plain": [
              "(7, 7)"
            ]
          },
          "execution_count": 228,
          "metadata": {},
          "output_type": "execute_result"
        }
      ],
      "source": [
        "# TEST 'MNIST' TRAINED MODEL USING MNIST TEST DATA\n",
        "ypred = model.predict(xtest[0:1])\n",
        "\n",
        "ytest_28[0], np.argmax(ypred)"
      ]
    },
    {
      "cell_type": "code",
      "execution_count": 344,
      "metadata": {
        "colab": {
          "base_uri": "https://localhost:8080/"
        },
        "id": "Odczhn_9T1IW",
        "outputId": "881e93b8-5ffc-40b8-d1e5-1b0e75858422"
      },
      "outputs": [
        {
          "name": "stdout",
          "output_type": "stream",
          "text": [
            "              precision    recall  f1-score   support\n",
            "\n",
            "           0       0.00      0.00      0.00         2\n",
            "           2       0.00      0.00      0.00         1\n",
            "           4       0.00      0.00      0.00         3\n",
            "           6       0.00      0.00      0.00         2\n",
            "           8       0.00      0.00      0.00         1\n",
            "           9       0.10      1.00      0.18         1\n",
            "\n",
            "    accuracy                           0.10        10\n",
            "   macro avg       0.02      0.17      0.03        10\n",
            "weighted avg       0.01      0.10      0.02        10\n",
            "\n"
          ]
        },
        {
          "name": "stderr",
          "output_type": "stream",
          "text": [
            "/usr/local/lib/python3.7/dist-packages/sklearn/metrics/_classification.py:1318: UndefinedMetricWarning: Precision and F-score are ill-defined and being set to 0.0 in labels with no predicted samples. Use `zero_division` parameter to control this behavior.\n",
            "  _warn_prf(average, modifier, msg_start, len(result))\n",
            "/usr/local/lib/python3.7/dist-packages/sklearn/metrics/_classification.py:1318: UndefinedMetricWarning: Precision and F-score are ill-defined and being set to 0.0 in labels with no predicted samples. Use `zero_division` parameter to control this behavior.\n",
            "  _warn_prf(average, modifier, msg_start, len(result))\n",
            "/usr/local/lib/python3.7/dist-packages/sklearn/metrics/_classification.py:1318: UndefinedMetricWarning: Precision and F-score are ill-defined and being set to 0.0 in labels with no predicted samples. Use `zero_division` parameter to control this behavior.\n",
            "  _warn_prf(average, modifier, msg_start, len(result))\n"
          ]
        }
      ],
      "source": [
        "# TEST 'MNIST' TRAINED MODEL USING EXTRACTED DIGITS\n",
        "from sklearn.metrics import classification_report\n",
        "\n",
        "ypred = new_model.predict(xtest2)\n",
        "\n",
        "# ypred = model.predict(xtest)\n",
        "\n",
        "\n",
        "# num_img = 10\n",
        "\n",
        "# test_digit = df.image[0:num_img]\n",
        "# test_digit = np.array([x[1:-1,1:-1] for x in test_digit])\n",
        "\n",
        "# test_digit = np.reshape(test_digit, (test_digit.shape[0], 784))\n",
        "# ypred = model.predict(test_digit)\n",
        "\n",
        "ypred = [np.argmax(x) for x in ypred]\n",
        "# print('core', [x for x in ytest2])\n",
        "# print('pred', ypred)\n",
        "\n",
        "# print(classification_report(ytest_28, ypred))\n",
        "print(classification_report(ytest2, ypred))"
      ]
    },
    {
      "cell_type": "code",
      "execution_count": 92,
      "metadata": {
        "colab": {
          "base_uri": "https://localhost:8080/",
          "height": 122
        },
        "id": "ybmPYnS5b4xJ",
        "outputId": "72e22b54-3bf4-429d-9313-2fda586cda70"
      },
      "outputs": [
        {
          "data": {
            "image/png": "[encoded data removed]",
            "text/plain": [
              "<Figure size 1080x360 with 10 Axes>"
            ]
          },
          "metadata": {
            "needs_background": "light"
          },
          "output_type": "display_data"
        }
      ],
      "source": [
        "plt.figure(figsize=(15,5))\n",
        "for i in range(1,num_img+1):\n",
        "  plt.subplot(1,num_img,i)\n",
        "  plt.imshow(df.image[i-1], cmap=plt.cm.binary)"
      ]
    },
    {
      "cell_type": "code",
      "execution_count": 80,
      "metadata": {
        "colab": {
          "base_uri": "https://localhost:8080/",
          "height": 282
        },
        "id": "d3XX9wdvfEV8",
        "outputId": "200228a3-3845-49db-b569-30797e15322c"
      },
      "outputs": [
        {
          "data": {
            "text/plain": [
              "<matplotlib.image.AxesImage at 0x7fa5dda67bd0>"
            ]
          },
          "execution_count": 80,
          "metadata": {},
          "output_type": "execute_result"
        },
        {
          "data": {
            "image/png": "[encoded data removed]",
            "text/plain": [
              "<Figure size 432x288 with 1 Axes>"
            ]
          },
          "metadata": {
            "needs_background": "light"
          },
          "output_type": "display_data"
        }
      ],
      "source": [
        "plt.imshow(xtest_28[0], cmap=plt.cm.binary)"
      ]
    },
    {
      "cell_type": "code",
      "execution_count": 300,
      "metadata": {
        "colab": {
          "base_uri": "https://localhost:8080/"
        },
        "id": "fvS59bUc7QFo",
        "outputId": "8aa8d7a3-d190-49bd-b16f-49f8a3e5b0ba"
      },
      "outputs": [
        {
          "name": "stdout",
          "output_type": "stream",
          "text": [
            "3 1\n",
            "9 9\n",
            "4 6\n",
            "7 8\n",
            "4 3\n",
            "5 0\n",
            "6 7\n",
            "3 6\n",
            "4 9\n",
            "2 7\n"
          ]
        }
      ],
      "source": [
        "ypred = model.predict(xtest)\n",
        "\n",
        "a = [np.argmax(x) for x in ypred]\n",
        "for i,j in zip(a, ytest):\n",
        "  print(i, j)"
      ]
    },
    {
      "cell_type": "markdown",
      "metadata": {
        "id": "mUmeYlowH1aB"
      },
      "source": [
        "# Multi Label Classification"
      ]
    },
    {
      "cell_type": "code",
      "execution_count": 1,
      "metadata": {
        "id": "VM7T1GgfH6Sx"
      },
      "outputs": [
        {
          "name": "stdout",
          "output_type": "stream",
          "text": [
            "e:\\prj\\python\\captcha-recognition\\sheypoor\n"
          ]
        }
      ],
      "source": [
        "# LOAD CAPTCHA IMAGES\n",
        "\n",
        "root_path = os.getcwd()\n",
        "print(root_path)"
      ]
    }
  ],
  "metadata": {
    "colab": {
      "include_colab_link": true,
      "name": "main.ipynb",
      "provenance": []
    },
    "interpreter": {
      "hash": "5513eef5830d037cc6a25309dd5c30cb296094b869bc5220ef884004efd165a0"
    },
    "kernelspec": {
      "display_name": "Python 3.8.0 64-bit",
      "language": "python",
      "name": "python3"
    },
    "language_info": {
      "codemirror_mode": {
        "name": "ipython",
        "version": 3
      },
      "file_extension": ".py",
      "mimetype": "text/x-python",
      "name": "python",
      "nbconvert_exporter": "python",
      "pygments_lexer": "ipython3",
      "version": "3.8.0"
    },
    "orig_nbformat": 4
  },
  "nbformat": 4,
  "nbformat_minor": 0
}
